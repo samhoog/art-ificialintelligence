{
 "cells": [
  {
   "cell_type": "markdown",
   "id": "a057d7de",
   "metadata": {
    "papermill": {
     "duration": 0.005246,
     "end_time": "2023-03-22T21:57:15.279226",
     "exception": false,
     "start_time": "2023-03-22T21:57:15.273980",
     "status": "completed"
    },
    "tags": []
   },
   "source": [
    "# CS 344 Final Project - Updated Proposal"
   ]
  },
  {
   "cell_type": "markdown",
   "id": "bb69089e",
   "metadata": {
    "papermill": {
     "duration": 0.003779,
     "end_time": "2023-03-22T21:57:15.288157",
     "exception": false,
     "start_time": "2023-03-22T21:57:15.284378",
     "status": "completed"
    },
    "tags": []
   },
   "source": [
    "#####  Sam Hoogewind, Corey Campbell"
   ]
  },
  {
   "cell_type": "markdown",
   "id": "7d29ed64",
   "metadata": {
    "papermill": {
     "duration": 0.003752,
     "end_time": "2023-03-22T21:57:15.295921",
     "exception": false,
     "start_time": "2023-03-22T21:57:15.292169",
     "status": "completed"
    },
    "tags": []
   },
   "source": [
    "## Final Report Draft"
   ]
  },
  {
   "cell_type": "markdown",
   "id": "35928d3f",
   "metadata": {
    "papermill": {
     "duration": 0.003678,
     "end_time": "2023-03-22T21:57:15.303614",
     "exception": false,
     "start_time": "2023-03-22T21:57:15.299936",
     "status": "completed"
    },
    "tags": []
   },
   "source": [
    "### Vision"
   ]
  },
  {
   "cell_type": "markdown",
   "id": "9707634a",
   "metadata": {
    "papermill": {
     "duration": 0.003546,
     "end_time": "2023-03-22T21:57:15.311177",
     "exception": false,
     "start_time": "2023-03-22T21:57:15.307631",
     "status": "completed"
    },
    "tags": []
   },
   "source": [
    "The goal is to train an image classifier on a large dataset of hand-drawn doodles. Then by integrating a whiteboard, a user can draw an image and have the classifier recognize what the doodle is of, and how confident it is. A successful project is one where the classifier is right a majority of the time, or at least pretty close."
   ]
  },
  {
   "cell_type": "markdown",
   "id": "f7b03cf2",
   "metadata": {
    "papermill": {
     "duration": 0.003589,
     "end_time": "2023-03-22T21:57:15.318707",
     "exception": false,
     "start_time": "2023-03-22T21:57:15.315118",
     "status": "completed"
    },
    "tags": []
   },
   "source": [
    "### Background"
   ]
  },
  {
   "cell_type": "markdown",
   "id": "f9b64b1f",
   "metadata": {
    "papermill": {
     "duration": 0.003561,
     "end_time": "2023-03-22T21:57:15.326154",
     "exception": false,
     "start_time": "2023-03-22T21:57:15.322593",
     "status": "completed"
    },
    "tags": []
   },
   "source": [
    "For the data, I plan on using this dataset of doodles - https://github.com/googlecreativelab/quickdraw-dataset, which has over 50 million drawings, and should have a wide range of things that can be drawn.  "
   ]
  },
  {
   "cell_type": "markdown",
   "id": "8bbe4e97",
   "metadata": {
    "papermill": {
     "duration": 0.00366,
     "end_time": "2023-03-22T21:57:15.333698",
     "exception": false,
     "start_time": "2023-03-22T21:57:15.330038",
     "status": "completed"
    },
    "tags": []
   },
   "source": [
    "I am going to try and have a website deployed (maybe with Angular and Firebase?) or just a client-side application where the user can draw on a whiteboard, and the drawing is then ran through the trained AI and displays how its guess and how confident it is."
   ]
  },
  {
   "cell_type": "markdown",
   "id": "48139138",
   "metadata": {
    "papermill": {
     "duration": 0.003551,
     "end_time": "2023-03-22T21:57:15.341159",
     "exception": false,
     "start_time": "2023-03-22T21:57:15.337608",
     "status": "completed"
    },
    "tags": []
   },
   "source": [
    "The image classifier itself will be based on ons we've made in lab and class."
   ]
  },
  {
   "cell_type": "markdown",
   "id": "40d2367d",
   "metadata": {
    "papermill": {
     "duration": 0.00356,
     "end_time": "2023-03-22T21:57:15.348581",
     "exception": false,
     "start_time": "2023-03-22T21:57:15.345021",
     "status": "completed"
    },
    "tags": []
   },
   "source": [
    "### Implementation"
   ]
  },
  {
   "cell_type": "markdown",
   "id": "7a63c8f5",
   "metadata": {
    "papermill": {
     "duration": 0.003481,
     "end_time": "2023-03-22T21:57:15.355984",
     "exception": false,
     "start_time": "2023-03-22T21:57:15.352503",
     "status": "completed"
    },
    "tags": []
   },
   "source": [
    "I am going to build on the code we've written in class for image classifiers, as well as attempting to figure out how to integrate that into an application."
   ]
  },
  {
   "cell_type": "markdown",
   "id": "af88e2bd",
   "metadata": {
    "papermill": {
     "duration": 0.003511,
     "end_time": "2023-03-22T21:57:15.363306",
     "exception": false,
     "start_time": "2023-03-22T21:57:15.359795",
     "status": "completed"
    },
    "tags": []
   },
   "source": [
    "### Results"
   ]
  },
  {
   "cell_type": "markdown",
   "id": "20483e50",
   "metadata": {
    "papermill": {
     "duration": 0.003806,
     "end_time": "2023-03-22T21:57:15.370920",
     "exception": false,
     "start_time": "2023-03-22T21:57:15.367114",
     "status": "completed"
    },
    "tags": []
   },
   "source": [
    "I plan to have some examples and stills for an official report, as well as the working application example."
   ]
  },
  {
   "cell_type": "markdown",
   "id": "a6975ac8",
   "metadata": {
    "papermill": {
     "duration": 0.003728,
     "end_time": "2023-03-22T21:57:15.378976",
     "exception": false,
     "start_time": "2023-03-22T21:57:15.375248",
     "status": "completed"
    },
    "tags": []
   },
   "source": [
    "### Implications"
   ]
  },
  {
   "cell_type": "markdown",
   "id": "b46293c4",
   "metadata": {
    "papermill": {
     "duration": 0.003637,
     "end_time": "2023-03-22T21:57:15.386715",
     "exception": false,
     "start_time": "2023-03-22T21:57:15.383078",
     "status": "completed"
    },
    "tags": []
   },
   "source": [
    "I need to think of and reflect on the implications still."
   ]
  },
  {
   "cell_type": "markdown",
   "id": "8d97aee9",
   "metadata": {
    "papermill": {
     "duration": 0.003735,
     "end_time": "2023-03-22T21:57:15.394448",
     "exception": false,
     "start_time": "2023-03-22T21:57:15.390713",
     "status": "completed"
    },
    "tags": []
   },
   "source": [
    "## Concrete Steps"
   ]
  },
  {
   "cell_type": "markdown",
   "id": "1167edc0",
   "metadata": {
    "papermill": {
     "duration": 0.00365,
     "end_time": "2023-03-22T21:57:15.402165",
     "exception": false,
     "start_time": "2023-03-22T21:57:15.398515",
     "status": "completed"
    },
    "tags": []
   },
   "source": [
    "I loaded up the dataset and made sure I could get it all working in Kaggle."
   ]
  },
  {
   "cell_type": "markdown",
   "id": "3b91ef76",
   "metadata": {
    "papermill": {
     "duration": 0.003558,
     "end_time": "2023-03-22T21:57:15.409613",
     "exception": false,
     "start_time": "2023-03-22T21:57:15.406055",
     "status": "completed"
    },
    "tags": []
   },
   "source": [
    "## Help"
   ]
  },
  {
   "cell_type": "markdown",
   "id": "4545db63",
   "metadata": {
    "papermill": {
     "duration": 0.003731,
     "end_time": "2023-03-22T21:57:15.417262",
     "exception": false,
     "start_time": "2023-03-22T21:57:15.413531",
     "status": "completed"
    },
    "tags": []
   },
   "source": [
    "If I can't figure out how to use a trained AI through an application, I will need help with that."
   ]
  }
 ],
 "metadata": {
  "kernelspec": {
   "display_name": "Python 3",
   "language": "python",
   "name": "python3"
  },
  "language_info": {
   "codemirror_mode": {
    "name": "ipython",
    "version": 3
   },
   "file_extension": ".py",
   "mimetype": "text/x-python",
   "name": "python",
   "nbconvert_exporter": "python",
   "pygments_lexer": "ipython3",
   "version": "3.7.12"
  },
  "papermill": {
   "default_parameters": {},
   "duration": 12.561828,
   "end_time": "2023-03-22T21:57:16.148865",
   "environment_variables": {},
   "exception": null,
   "input_path": "__notebook__.ipynb",
   "output_path": "__notebook__.ipynb",
   "parameters": {},
   "start_time": "2023-03-22T21:57:03.587037",
   "version": "2.4.0"
  }
 },
 "nbformat": 4,
 "nbformat_minor": 5
}
