{
 "cells": [
  {
   "cell_type": "markdown",
   "id": "9b9445e7",
   "metadata": {
    "papermill": {
     "duration": 0.005247,
     "end_time": "2023-04-23T20:20:58.936878",
     "exception": false,
     "start_time": "2023-04-23T20:20:58.931631",
     "status": "completed"
    },
    "tags": []
   },
   "source": [
    "# Technical Report"
   ]
  },
  {
   "cell_type": "markdown",
   "id": "524eacdd",
   "metadata": {
    "papermill": {
     "duration": 0.003697,
     "end_time": "2023-04-23T20:20:58.945057",
     "exception": false,
     "start_time": "2023-04-23T20:20:58.941360",
     "status": "completed"
    },
    "tags": []
   },
   "source": [
    "## Introduction "
   ]
  },
  {
   "cell_type": "markdown",
   "id": "79df12d9",
   "metadata": {
    "papermill": {
     "duration": 0.003679,
     "end_time": "2023-04-23T20:20:58.952655",
     "exception": false,
     "start_time": "2023-04-23T20:20:58.948976",
     "status": "completed"
    },
    "tags": []
   },
   "source": [
    "The objective of this technical report is to present an image classifier that can predict what a user is drawing based on the Google QuickDraw dataset. The classifier has been trained on the QuickDraw dataset, which is a collection of over 50 million drawings across 345 categories (this classifier features 20). The system uses a fastai vision learner to classify the user's input and provides the prediction in real-time. This report will cover the dataset, data preprocessing, model architecture, testing results, and the application."
   ]
  },
  {
   "cell_type": "markdown",
   "id": "78e8b886",
   "metadata": {
    "papermill": {
     "duration": 0.003609,
     "end_time": "2023-04-23T20:20:58.960102",
     "exception": false,
     "start_time": "2023-04-23T20:20:58.956493",
     "status": "completed"
    },
    "tags": []
   },
   "source": [
    "## Dataset"
   ]
  },
  {
   "cell_type": "markdown",
   "id": "3e2f85cb",
   "metadata": {
    "papermill": {
     "duration": 0.003581,
     "end_time": "2023-04-23T20:20:58.967592",
     "exception": false,
     "start_time": "2023-04-23T20:20:58.964011",
     "status": "completed"
    },
    "tags": []
   },
   "source": [
    "The QuickDraw dataset consists of 50 million sketches across 345 categories, with each sketch being represented as a sequence of x, y coordinates. The dataset is publicly available, and each category is stored in multiple separate file types. For this model we used the numpy array format (https://console.cloud.google.com/storage/browser/quickdraw_dataset/full/numpy_bitmap), which put each sketch's x and y coordinates into a 2D array, where each pixel corresponds to a position in the image. The images were then resized to 28 x 28 pixels and normalized to values between 0 and 1."
   ]
  },
  {
   "cell_type": "markdown",
   "id": "e478f31e",
   "metadata": {
    "papermill": {
     "duration": 0.003806,
     "end_time": "2023-04-23T20:20:58.975287",
     "exception": false,
     "start_time": "2023-04-23T20:20:58.971481",
     "status": "completed"
    },
    "tags": []
   },
   "source": [
    "Example image:"
   ]
  },
  {
   "cell_type": "code",
   "execution_count": 1,
   "id": "728eb3c5",
   "metadata": {
    "execution": {
     "iopub.execute_input": "2023-04-23T20:20:58.985331Z",
     "iopub.status.busy": "2023-04-23T20:20:58.984788Z",
     "iopub.status.idle": "2023-04-23T20:21:00.706034Z",
     "shell.execute_reply": "2023-04-23T20:21:00.704915Z"
    },
    "papermill": {
     "duration": 1.730853,
     "end_time": "2023-04-23T20:21:00.710119",
     "exception": false,
     "start_time": "2023-04-23T20:20:58.979266",
     "status": "completed"
    },
    "tags": []
   },
   "outputs": [
    {
     "data": {
      "image/png": "[encoded data removed]",
      "text/plain": [
       "<Figure size 640x480 with 1 Axes>"
      ]
     },
     "metadata": {},
     "output_type": "display_data"
    }
   ],
   "source": [
    "import numpy as np\n",
    "import matplotlib.pyplot as plt\n",
    "\n",
    "npy_drawings = np.load('/kaggle/input/dolphin/full_numpy_bitmap_dolphin.npy')\n",
    "drawing1 = (npy_drawings[13]).reshape(28,28)\n",
    "plt.imshow(drawing1, cmap='Greys_r');"
   ]
  },
  {
   "cell_type": "markdown",
   "id": "668e10d2",
   "metadata": {
    "papermill": {
     "duration": 0.005742,
     "end_time": "2023-04-23T20:21:00.722104",
     "exception": false,
     "start_time": "2023-04-23T20:21:00.716362",
     "status": "completed"
    },
    "tags": []
   },
   "source": [
    "## Data Processing"
   ]
  },
  {
   "cell_type": "markdown",
   "id": "1f304ae5",
   "metadata": {
    "papermill": {
     "duration": 0.005572,
     "end_time": "2023-04-23T20:21:00.733585",
     "exception": false,
     "start_time": "2023-04-23T20:21:00.728013",
     "status": "completed"
    },
    "tags": []
   },
   "source": [
    "1000 photos from 20 different categories are randomly selected from the npy files, and then converted into pngs for size and storage. We then label each image, storing them in a dataloader, with an 80:20 testing to validation set respectably, resting in 16,000 training images and 4,000 validation images."
   ]
  },
  {
   "cell_type": "markdown",
   "id": "17b7680e",
   "metadata": {
    "papermill": {
     "duration": 0.005645,
     "end_time": "2023-04-23T20:21:00.745249",
     "exception": false,
     "start_time": "2023-04-23T20:21:00.739604",
     "status": "completed"
    },
    "tags": []
   },
   "source": [
    "## Model Architecture"
   ]
  },
  {
   "cell_type": "markdown",
   "id": "5235afb1",
   "metadata": {
    "papermill": {
     "duration": 0.003964,
     "end_time": "2023-04-23T20:21:00.755218",
     "exception": false,
     "start_time": "2023-04-23T20:21:00.751254",
     "status": "completed"
    },
    "tags": []
   },
   "source": [
    "The image classifier was built with a fastai vision_learner using the resnet34 architecture. The input to the model is a grayscale image of size 28 x 28 pixels, and the output is a probability distribution across the 20 possible categories. "
   ]
  },
  {
   "cell_type": "markdown",
   "id": "479e0f76",
   "metadata": {
    "papermill": {
     "duration": 0.003857,
     "end_time": "2023-04-23T20:21:00.764112",
     "exception": false,
     "start_time": "2023-04-23T20:21:00.760255",
     "status": "completed"
    },
    "tags": []
   },
   "source": [
    "## Training and Testing"
   ]
  },
  {
   "cell_type": "markdown",
   "id": "67cac3ac",
   "metadata": {
    "papermill": {
     "duration": 0.003806,
     "end_time": "2023-04-23T20:21:00.771936",
     "exception": false,
     "start_time": "2023-04-23T20:21:00.768130",
     "status": "completed"
    },
    "tags": []
   },
   "source": [
    "The model was trained on the preprocessed dataset for 20 epochs. During training, the model was evaluated on the validation set after each epoch to monitor the loss and accuracy. The model achieved a training loss of 0.058360 and a validation loss of 0.541575, with a total accuracy of 88%.\n",
    "\n",
    "To test the model, a web application was developed that allows the user to draw an image using the mouse, which is then classified by the model in real-time. The application takes the user's drawing and converts it to a 28 x 28 grayscale image, where the model predicts the category with the highest probability. The prediction is then returned to the frontend, where it is displayed to the user, along with the probabilites of every possible category."
   ]
  },
  {
   "cell_type": "markdown",
   "id": "b7b71776",
   "metadata": {
    "papermill": {
     "duration": 0.003817,
     "end_time": "2023-04-23T20:21:00.779801",
     "exception": false,
     "start_time": "2023-04-23T20:21:00.775984",
     "status": "completed"
    },
    "tags": []
   },
   "source": [
    "## App Implementation"
   ]
  },
  {
   "cell_type": "markdown",
   "id": "6172c980",
   "metadata": {
    "papermill": {
     "duration": 0.003726,
     "end_time": "2023-04-23T20:21:00.787542",
     "exception": false,
     "start_time": "2023-04-23T20:21:00.783816",
     "status": "completed"
    },
    "tags": []
   },
   "source": [
    "The web application was built and deployed using streamlit (hosted at https://samhoog-art-ificialin-applicationart-ificialintelligence-qh6rsf.streamlit.app). It uses a streamlit drawing canvas API, and imports the classifier using fastai's built in import and export functionality. The model's guess is displayed at the bottom of the screen, with the sidebar featuring some drawing customization as well as the full vector of the probability of each of the 20 categories, which also updates in real time whenever the mouse button is released."
   ]
  },
  {
   "cell_type": "markdown",
   "id": "7f882240",
   "metadata": {
    "papermill": {
     "duration": 0.003731,
     "end_time": "2023-04-23T20:21:00.795322",
     "exception": false,
     "start_time": "2023-04-23T20:21:00.791591",
     "status": "completed"
    },
    "tags": []
   },
   "source": [
    "## Analysis"
   ]
  },
  {
   "cell_type": "markdown",
   "id": "a4311484",
   "metadata": {
    "papermill": {
     "duration": 0.003789,
     "end_time": "2023-04-23T20:21:00.803152",
     "exception": false,
     "start_time": "2023-04-23T20:21:00.799363",
     "status": "completed"
    },
    "tags": []
   },
   "source": [
    "Qualitatively, the model can confidentally recognize all 20 categories with the whiteboard. Some categories are much stronger than others, for example the classifier struggles between animals, as a monkey and a panda are much closer to each other than a mug and shorts. Furthermore, the applications compression of the drawn image to 28x28 pixels can result in the user's drawing getting cluttered and nonsensical. Small and intricate details will get lost, but if you draw large and generally the classifier almost always gets the right answer.\n",
    "\n",
    "A possible problem with this model could be the dataset itself: with the Google QuickDraw dataset downloading any user submitted drawings, it's possible to get bad drawings or even drawings that are innapropriate or purposely trying to work against the prompt. However, by taking 1000 random images of each category, it should be enough to get a good idea of what each category is."
   ]
  },
  {
   "cell_type": "markdown",
   "id": "514b260d",
   "metadata": {
    "papermill": {
     "duration": 0.003746,
     "end_time": "2023-04-23T20:21:00.810840",
     "exception": false,
     "start_time": "2023-04-23T20:21:00.807094",
     "status": "completed"
    },
    "tags": []
   },
   "source": [
    "## Conclusion"
   ]
  },
  {
   "cell_type": "markdown",
   "id": "69646cf3",
   "metadata": {
    "papermill": {
     "duration": 0.003814,
     "end_time": "2023-04-23T20:21:00.818601",
     "exception": false,
     "start_time": "2023-04-23T20:21:00.814787",
     "status": "completed"
    },
    "tags": []
   },
   "source": [
    "In conclusion, this report covers an image classifier that can predict what a user is drawing based on the Google QuickDraw dataset. The model achieved an accuracy of 88% on the validation set, indicating that it can classify images accurately. The web application developed using this model provides a simple and intuitive way for users to interact with the system and receive real-time predictions. Future work could involve improving the model's performance on specific categories and expanding the dataset to include more categories, either manually or by looking at feature vectors."
   ]
  }
 ],
 "metadata": {
  "kernelspec": {
   "display_name": "Python 3",
   "language": "python",
   "name": "python3"
  },
  "language_info": {
   "codemirror_mode": {
    "name": "ipython",
    "version": 3
   },
   "file_extension": ".py",
   "mimetype": "text/x-python",
   "name": "python",
   "nbconvert_exporter": "python",
   "pygments_lexer": "ipython3",
   "version": "3.7.12"
  },
  "papermill": {
   "default_parameters": {},
   "duration": 12.115791,
   "end_time": "2023-04-23T20:21:01.444030",
   "environment_variables": {},
   "exception": null,
   "input_path": "__notebook__.ipynb",
   "output_path": "__notebook__.ipynb",
   "parameters": {},
   "start_time": "2023-04-23T20:20:49.328239",
   "version": "2.4.0"
  }
 },
 "nbformat": 4,
 "nbformat_minor": 5
}
