{
 "cells": [
  {
   "cell_type": "markdown",
   "id": "b5ffbf9b",
   "metadata": {
    "papermill": {
     "duration": 0.005109,
     "end_time": "2023-04-24T21:39:05.090339",
     "exception": false,
     "start_time": "2023-04-24T21:39:05.085230",
     "status": "completed"
    },
    "tags": []
   },
   "source": [
    "# Technical Report"
   ]
  },
  {
   "cell_type": "markdown",
   "id": "df428e3b",
   "metadata": {
    "papermill": {
     "duration": 0.003616,
     "end_time": "2023-04-24T21:39:05.098061",
     "exception": false,
     "start_time": "2023-04-24T21:39:05.094445",
     "status": "completed"
    },
    "tags": []
   },
   "source": [
    "## Introduction "
   ]
  },
  {
   "cell_type": "markdown",
   "id": "aa93a688",
   "metadata": {
    "papermill": {
     "duration": 0.003791,
     "end_time": "2023-04-24T21:39:05.106055",
     "exception": false,
     "start_time": "2023-04-24T21:39:05.102264",
     "status": "completed"
    },
    "tags": []
   },
   "source": [
    "The objective of this technical report is to present an image classifier that can predict what a user is drawing based on the Google QuickDraw dataset. The classifier has been trained on the QuickDraw dataset, which is a collection of over 50 million drawings across 345 categories (this classifier features 20). The system uses a fastai vision learner to classify the user's input and provides the prediction in real-time. This report will cover the dataset, data preprocessing, model architecture, testing results, and the application."
   ]
  },
  {
   "cell_type": "markdown",
   "id": "4cf8ece9",
   "metadata": {
    "papermill": {
     "duration": 0.003598,
     "end_time": "2023-04-24T21:39:05.113642",
     "exception": false,
     "start_time": "2023-04-24T21:39:05.110044",
     "status": "completed"
    },
    "tags": []
   },
   "source": [
    "## Dataset"
   ]
  },
  {
   "cell_type": "markdown",
   "id": "0c5ec58a",
   "metadata": {
    "papermill": {
     "duration": 0.003583,
     "end_time": "2023-04-24T21:39:05.121058",
     "exception": false,
     "start_time": "2023-04-24T21:39:05.117475",
     "status": "completed"
    },
    "tags": []
   },
   "source": [
    "The QuickDraw dataset consists of 50 million sketches across 345 categories, with each sketch being represented as a sequence of x, y coordinates. The dataset is publicly available, and each category is stored in multiple separate file types. For this model we used the numpy array format (https://console.cloud.google.com/storage/browser/quickdraw_dataset/full/numpy_bitmap), which put each sketch's x and y coordinates into a 2D array, where each pixel corresponds to a position in the image. The images were then resized to 28 x 28 pixels and normalized to values between 0 and 1."
   ]
  },
  {
   "cell_type": "markdown",
   "id": "5d69b250",
   "metadata": {
    "papermill": {
     "duration": 0.003522,
     "end_time": "2023-04-24T21:39:05.128490",
     "exception": false,
     "start_time": "2023-04-24T21:39:05.124968",
     "status": "completed"
    },
    "tags": []
   },
   "source": [
    "Example image:"
   ]
  },
  {
   "cell_type": "code",
   "execution_count": 1,
   "id": "a81c7f41",
   "metadata": {
    "execution": {
     "iopub.execute_input": "2023-04-24T21:39:05.139218Z",
     "iopub.status.busy": "2023-04-24T21:39:05.138251Z",
     "iopub.status.idle": "2023-04-24T21:39:06.313109Z",
     "shell.execute_reply": "2023-04-24T21:39:06.311789Z"
    },
    "papermill": {
     "duration": 1.184187,
     "end_time": "2023-04-24T21:39:06.316510",
     "exception": false,
     "start_time": "2023-04-24T21:39:05.132323",
     "status": "completed"
    },
    "tags": []
   },
   "outputs": [
    {
     "data": {
      "image/png": "[encoded data removed]",
      "text/plain": [
       "<Figure size 640x480 with 1 Axes>"
      ]
     },
     "metadata": {},
     "output_type": "display_data"
    }
   ],
   "source": [
    "import numpy as np\n",
    "import matplotlib.pyplot as plt\n",
    "\n",
    "npy_drawings = np.load('/kaggle/input/dolphin/full_numpy_bitmap_dolphin.npy')\n",
    "drawing1 = (npy_drawings[13]).reshape(28,28)\n",
    "plt.imshow(drawing1, cmap='Greys_r');"
   ]
  },
  {
   "cell_type": "markdown",
   "id": "8d66a998",
   "metadata": {
    "papermill": {
     "duration": 0.003906,
     "end_time": "2023-04-24T21:39:06.324844",
     "exception": false,
     "start_time": "2023-04-24T21:39:06.320938",
     "status": "completed"
    },
    "tags": []
   },
   "source": [
    "## Data Processing"
   ]
  },
  {
   "cell_type": "markdown",
   "id": "2ed09332",
   "metadata": {
    "papermill": {
     "duration": 0.003861,
     "end_time": "2023-04-24T21:39:06.332852",
     "exception": false,
     "start_time": "2023-04-24T21:39:06.328991",
     "status": "completed"
    },
    "tags": []
   },
   "source": [
    "1000 photos from 20 different categories are randomly selected from the npy files, and then converted into pngs for size and storage. We then label each image, storing them in a dataloader, with an 80:20 testing to validation set respectably, resting in 16,000 training images and 4,000 validation images."
   ]
  },
  {
   "cell_type": "markdown",
   "id": "d776b6cb",
   "metadata": {
    "papermill": {
     "duration": 0.003788,
     "end_time": "2023-04-24T21:39:06.340817",
     "exception": false,
     "start_time": "2023-04-24T21:39:06.337029",
     "status": "completed"
    },
    "tags": []
   },
   "source": [
    "## Model Architecture"
   ]
  },
  {
   "cell_type": "markdown",
   "id": "b16d6aad",
   "metadata": {
    "papermill": {
     "duration": 0.003777,
     "end_time": "2023-04-24T21:39:06.348632",
     "exception": false,
     "start_time": "2023-04-24T21:39:06.344855",
     "status": "completed"
    },
    "tags": []
   },
   "source": [
    "The image classifier was built with a fastai vision_learner using the resnet34 architecture. The input to the model is a grayscale image of size 28 x 28 pixels, and the output is a probability distribution across the 20 possible categories. "
   ]
  },
  {
   "cell_type": "markdown",
   "id": "79685690",
   "metadata": {
    "papermill": {
     "duration": 0.003779,
     "end_time": "2023-04-24T21:39:06.356514",
     "exception": false,
     "start_time": "2023-04-24T21:39:06.352735",
     "status": "completed"
    },
    "tags": []
   },
   "source": [
    "## Training and Testing"
   ]
  },
  {
   "cell_type": "markdown",
   "id": "dc27b513",
   "metadata": {
    "papermill": {
     "duration": 0.003982,
     "end_time": "2023-04-24T21:39:06.364483",
     "exception": false,
     "start_time": "2023-04-24T21:39:06.360501",
     "status": "completed"
    },
    "tags": []
   },
   "source": [
    "The model was trained on the preprocessed dataset for 20 epochs. During training, the model was evaluated on the validation set after each epoch to monitor the loss and accuracy. The model achieved a training loss of 0.058360 and a validation loss of 0.541575, with a total accuracy of 88%.\n",
    "\n",
    "To test the model, a web application was developed that allows the user to draw an image using the mouse, which is then classified by the model in real-time. The application takes the user's drawing and converts it to a 28 x 28 grayscale image, where the model predicts the category with the highest probability. The prediction is then returned to the frontend, where it is displayed to the user, along with the probabilites of every possible category."
   ]
  },
  {
   "cell_type": "markdown",
   "id": "3e527254",
   "metadata": {
    "papermill": {
     "duration": 0.003828,
     "end_time": "2023-04-24T21:39:06.372358",
     "exception": false,
     "start_time": "2023-04-24T21:39:06.368530",
     "status": "completed"
    },
    "tags": []
   },
   "source": [
    "## App Implementation"
   ]
  },
  {
   "cell_type": "markdown",
   "id": "9b0cdee8",
   "metadata": {
    "papermill": {
     "duration": 0.003739,
     "end_time": "2023-04-24T21:39:06.380151",
     "exception": false,
     "start_time": "2023-04-24T21:39:06.376412",
     "status": "completed"
    },
    "tags": []
   },
   "source": [
    "The web application was built and deployed using streamlit (hosted at https://samhoog-art-ificialin-applicationart-ificialintelligence-qh6rsf.streamlit.app), or can be run locally with the https://github.com/samhoog/art-ificialintelligence/tree/main/application directory. It uses a streamlit drawing canvas API, and imports the classifier using fastai's built in import and export functionality. The model's guess is displayed at the bottom of the screen, with the sidebar featuring some drawing customization as well as the full vector of the probability of each of the 20 categories, which also updates in real time whenever the mouse button is released."
   ]
  },
  {
   "cell_type": "markdown",
   "id": "425d5655",
   "metadata": {
    "papermill": {
     "duration": 0.003807,
     "end_time": "2023-04-24T21:39:06.388027",
     "exception": false,
     "start_time": "2023-04-24T21:39:06.384220",
     "status": "completed"
    },
    "tags": []
   },
   "source": [
    "## Analysis"
   ]
  },
  {
   "cell_type": "markdown",
   "id": "59c5d27a",
   "metadata": {
    "papermill": {
     "duration": 0.00378,
     "end_time": "2023-04-24T21:39:06.395876",
     "exception": false,
     "start_time": "2023-04-24T21:39:06.392096",
     "status": "completed"
    },
    "tags": []
   },
   "source": [
    "Qualitatively, the model can confidentally recognize all 20 categories with the whiteboard. Some categories are much stronger than others, for example the classifier struggles between animals, as a monkey and a panda are much closer to each other than a mug and shorts. Furthermore, the applications compression of the drawn image to 28x28 pixels can result in the user's drawing getting cluttered and nonsensical. Small and intricate details will get lost, but if you draw large and generally the classifier almost always gets the right answer.\n",
    "\n",
    "A possible problem with this model could be the dataset itself: with the Google QuickDraw dataset downloading any user submitted drawings, it's possible to get bad drawings or even drawings that are innapropriate or purposely trying to work against the prompt. However, by taking 1000 random images of each category, it should be enough to get a good idea of what each category is."
   ]
  },
  {
   "cell_type": "markdown",
   "id": "49689bc4",
   "metadata": {
    "papermill": {
     "duration": 0.003748,
     "end_time": "2023-04-24T21:39:06.403696",
     "exception": false,
     "start_time": "2023-04-24T21:39:06.399948",
     "status": "completed"
    },
    "tags": []
   },
   "source": [
    "## Conclusion"
   ]
  },
  {
   "cell_type": "markdown",
   "id": "ded7fe1f",
   "metadata": {
    "papermill": {
     "duration": 0.003952,
     "end_time": "2023-04-24T21:39:06.411692",
     "exception": false,
     "start_time": "2023-04-24T21:39:06.407740",
     "status": "completed"
    },
    "tags": []
   },
   "source": [
    "In conclusion, this report covers an image classifier that can predict what a user is drawing based on the Google QuickDraw dataset. The model achieved an accuracy of 88% on the validation set, indicating that it can classify images accurately. The web application developed using this model provides a simple and intuitive way for users to interact with the system and receive real-time predictions. Future work could involve improving the model's performance on specific categories and expanding the dataset to include more categories, either manually or by looking at feature vectors."
   ]
  }
 ],
 "metadata": {
  "kernelspec": {
   "display_name": "Python 3",
   "language": "python",
   "name": "python3"
  },
  "language_info": {
   "codemirror_mode": {
    "name": "ipython",
    "version": 3
   },
   "file_extension": ".py",
   "mimetype": "text/x-python",
   "name": "python",
   "nbconvert_exporter": "python",
   "pygments_lexer": "ipython3",
   "version": "3.7.12"
  },
  "papermill": {
   "default_parameters": {},
   "duration": 12.703966,
   "end_time": "2023-04-24T21:39:07.137391",
   "environment_variables": {},
   "exception": null,
   "input_path": "__notebook__.ipynb",
   "output_path": "__notebook__.ipynb",
   "parameters": {},
   "start_time": "2023-04-24T21:38:54.433425",
   "version": "2.4.0"
  }
 },
 "nbformat": 4,
 "nbformat_minor": 5
}
