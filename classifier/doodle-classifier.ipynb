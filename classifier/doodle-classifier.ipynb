{
 "cells": [
  {
   "cell_type": "markdown",
   "id": "49208841",
   "metadata": {
    "_cell_guid": "b3588889-fc7b-4915-ac71-fe9c3869a59b",
    "_uuid": "66b977e4-1adf-4198-815d-de23f251fc5f",
    "papermill": {
     "duration": 0.009205,
     "end_time": "2023-04-19T22:10:29.592453",
     "exception": false,
     "start_time": "2023-04-19T22:10:29.583248",
     "status": "completed"
    },
    "tags": []
   },
   "source": [
    "# Doodle Image Classifier\n",
    "\n",
    "Sam Hoogewind and Corey Campbell"
   ]
  },
  {
   "cell_type": "markdown",
   "id": "3e9b90e8",
   "metadata": {
    "_cell_guid": "7a8d37d8-cc29-4316-9eb3-ad75f83541ee",
    "_uuid": "79d37205-429e-4005-9b65-3adacbf54826",
    "papermill": {
     "duration": 0.007305,
     "end_time": "2023-04-19T22:10:29.607949",
     "exception": false,
     "start_time": "2023-04-19T22:10:29.600644",
     "status": "completed"
    },
    "tags": []
   },
   "source": [
    "## Setup"
   ]
  },
  {
   "cell_type": "code",
   "execution_count": 1,
   "id": "76b1bf6a",
   "metadata": {
    "_cell_guid": "8b562396-c7c0-48a1-89dc-c4478954e38d",
    "_uuid": "2fd42162-2bd6-45a9-83f0-e3db604fd040",
    "collapsed": false,
    "execution": {
     "iopub.execute_input": "2023-04-19T22:10:29.625376Z",
     "iopub.status.busy": "2023-04-19T22:10:29.624620Z",
     "iopub.status.idle": "2023-04-19T22:10:33.747027Z",
     "shell.execute_reply": "2023-04-19T22:10:33.745894Z"
    },
    "jupyter": {
     "outputs_hidden": false
    },
    "papermill": {
     "duration": 4.134226,
     "end_time": "2023-04-19T22:10:33.749692",
     "exception": false,
     "start_time": "2023-04-19T22:10:29.615466",
     "status": "completed"
    },
    "tags": []
   },
   "outputs": [],
   "source": [
    "try:\n",
    "    import fastai\n",
    "except ImportError:\n",
    "    print(\"installing fastai...\")\n",
    "    !pip install -Uqq fastai\n",
    "\n",
    "import torch\n",
    "from fastai.vision.all import *\n",
    "# Input tensors get tagged as `TensorImageBW`, and they keep that tag even after going through the model.\n",
    "# I'm not sure how you're supposed to drop that tag, but this works around a type dispatch error.\n",
    "TensorImageBW.register_func(F.cross_entropy, TensorImageBW, TensorCategory)\n",
    "\n",
    "import sys\n",
    "if sys.platform == \"darwin\":\n",
    "    # https://stackoverflow.com/a/64855500/69707\n",
    "    import os\n",
    "    os.environ['OMP_NUM_THREADS'] = '1'\n",
    "    \n",
    "import numpy as np\n",
    "import random\n",
    "\n",
    "%matplotlib inline\n",
    "import matplotlib.pyplot as plt\n",
    "import matplotlib.image as mpimg "
   ]
  },
  {
   "cell_type": "code",
   "execution_count": 2,
   "id": "b3353bf3",
   "metadata": {
    "_cell_guid": "30e73df0-5716-4318-836c-ffa248d93766",
    "_uuid": "099c2064-c91a-4e1f-a5f2-793cc5fcf2cc",
    "collapsed": false,
    "execution": {
     "iopub.execute_input": "2023-04-19T22:10:33.762336Z",
     "iopub.status.busy": "2023-04-19T22:10:33.761993Z",
     "iopub.status.idle": "2023-04-19T22:10:33.770760Z",
     "shell.execute_reply": "2023-04-19T22:10:33.769916Z"
    },
    "jupyter": {
     "outputs_hidden": false
    },
    "papermill": {
     "duration": 0.017389,
     "end_time": "2023-04-19T22:10:33.772698",
     "exception": false,
     "start_time": "2023-04-19T22:10:33.755309",
     "status": "completed"
    },
    "tags": []
   },
   "outputs": [],
   "source": [
    "torch.manual_seed(12);"
   ]
  },
  {
   "cell_type": "markdown",
   "id": "d6c3c6b7",
   "metadata": {
    "papermill": {
     "duration": 0.004687,
     "end_time": "2023-04-19T22:10:33.782384",
     "exception": false,
     "start_time": "2023-04-19T22:10:33.777697",
     "status": "completed"
    },
    "tags": []
   },
   "source": [
    "## Process the images"
   ]
  },
  {
   "cell_type": "code",
   "execution_count": 3,
   "id": "ae298f1b",
   "metadata": {
    "execution": {
     "iopub.execute_input": "2023-04-19T22:10:33.794707Z",
     "iopub.status.busy": "2023-04-19T22:10:33.793119Z",
     "iopub.status.idle": "2023-04-19T22:10:54.730195Z",
     "shell.execute_reply": "2023-04-19T22:10:54.729285Z"
    },
    "papermill": {
     "duration": 20.945088,
     "end_time": "2023-04-19T22:10:54.732346",
     "exception": false,
     "start_time": "2023-04-19T22:10:33.787258",
     "status": "completed"
    },
    "tags": []
   },
   "outputs": [
    {
     "data": {
      "image/png": "[encoded data removed]",
      "text/plain": [
       "<Figure size 432x288 with 1 Axes>"
      ]
     },
     "metadata": {
      "needs_background": "light"
     },
     "output_type": "display_data"
    }
   ],
   "source": [
    "path = Path('/kaggle/input/npybitfile/')\n",
    "image_files = []\n",
    "for npy_file in path.glob(\"*.npy\"):\n",
    "    category_name = npy_file.name[:-4]\n",
    "    npy_drawings = np.load(npy_file)\n",
    "    \n",
    "    npy_drawings.shape\n",
    "    \n",
    "    drawing1 = (npy_drawings[0]).reshape(28,28)\n",
    "    plt.imshow(drawing1);\n",
    "    \n",
    "    indices = torch.randperm(len(npy_drawings))[:1000]\n",
    "    drawing_items = npy_drawings[indices]\n",
    "    \n",
    "    os.makedirs('/kaggle/working/{}'.format(category_name + 's'))\n",
    "    indice = 0\n",
    "    for image in drawing_items:\n",
    "        item = image.reshape(28,28)\n",
    "        i = Image.fromarray(item)\n",
    "        i.save(\"/kaggle/working/{}/{}{}.png\".format(category_name + 's', category_name, indice))\n",
    "        indice += 1\n",
    "        \n",
    "    img_files = get_image_files(\"/kaggle/working/{}\".format(category_name + 's')).sorted()\n",
    "    \n",
    "    image_files.extend(img_files)"
   ]
  },
  {
   "cell_type": "code",
   "execution_count": 4,
   "id": "db1a7d0c",
   "metadata": {
    "_cell_guid": "7f6774f6-d1cf-48f8-8583-f1445a98abe0",
    "_uuid": "43c48a59-ec48-4161-97bc-61fd56aa6587",
    "collapsed": false,
    "execution": {
     "iopub.execute_input": "2023-04-19T22:10:54.744917Z",
     "iopub.status.busy": "2023-04-19T22:10:54.744542Z",
     "iopub.status.idle": "2023-04-19T22:10:54.750608Z",
     "shell.execute_reply": "2023-04-19T22:10:54.749636Z"
    },
    "jupyter": {
     "outputs_hidden": false
    },
    "papermill": {
     "duration": 0.015037,
     "end_time": "2023-04-19T22:10:54.752994",
     "exception": false,
     "start_time": "2023-04-19T22:10:54.737957",
     "status": "completed"
    },
    "tags": []
   },
   "outputs": [
    {
     "data": {
      "text/plain": [
       "20000"
      ]
     },
     "execution_count": 4,
     "metadata": {},
     "output_type": "execute_result"
    }
   ],
   "source": [
    "len(image_files)"
   ]
  },
  {
   "cell_type": "markdown",
   "id": "6a519ab6",
   "metadata": {
    "papermill": {
     "duration": 0.005352,
     "end_time": "2023-04-19T22:10:54.763844",
     "exception": false,
     "start_time": "2023-04-19T22:10:54.758492",
     "status": "completed"
    },
    "tags": []
   },
   "source": [
    "### Get the label for each image"
   ]
  },
  {
   "cell_type": "code",
   "execution_count": 5,
   "id": "0092a4dd",
   "metadata": {
    "_cell_guid": "d0ef6eb7-7456-4844-baf1-67f42df9bc25",
    "_uuid": "c45c6c87-6e25-49f8-95d7-b2be5a784a14",
    "collapsed": false,
    "execution": {
     "iopub.execute_input": "2023-04-19T22:10:54.777150Z",
     "iopub.status.busy": "2023-04-19T22:10:54.776163Z",
     "iopub.status.idle": "2023-04-19T22:10:54.782050Z",
     "shell.execute_reply": "2023-04-19T22:10:54.781034Z"
    },
    "jupyter": {
     "outputs_hidden": false
    },
    "papermill": {
     "duration": 0.014798,
     "end_time": "2023-04-19T22:10:54.784149",
     "exception": false,
     "start_time": "2023-04-19T22:10:54.769351",
     "status": "completed"
    },
    "tags": []
   },
   "outputs": [],
   "source": [
    "def get_label(filename):\n",
    "    pattern = r'[0-9]'\n",
    "    label = re.sub(pattern, '', filename)\n",
    "    label = label[:-4]\n",
    "    return label"
   ]
  },
  {
   "cell_type": "code",
   "execution_count": 6,
   "id": "9f602178",
   "metadata": {
    "_cell_guid": "e6611ad5-2659-4c13-ab23-890ef0a77836",
    "_uuid": "2e3535a5-babc-4e5a-afd3-1442b789334a",
    "collapsed": false,
    "execution": {
     "iopub.execute_input": "2023-04-19T22:10:54.796120Z",
     "iopub.status.busy": "2023-04-19T22:10:54.795825Z",
     "iopub.status.idle": "2023-04-19T22:10:54.855604Z",
     "shell.execute_reply": "2023-04-19T22:10:54.854605Z"
    },
    "jupyter": {
     "outputs_hidden": false
    },
    "papermill": {
     "duration": 0.068298,
     "end_time": "2023-04-19T22:10:54.858027",
     "exception": false,
     "start_time": "2023-04-19T22:10:54.789729",
     "status": "completed"
    },
    "tags": []
   },
   "outputs": [],
   "source": [
    "labels = []\n",
    "for path in image_files:\n",
    "    labels.append(get_label(path.name))"
   ]
  },
  {
   "cell_type": "code",
   "execution_count": 7,
   "id": "f9502b79",
   "metadata": {
    "_cell_guid": "d69eef41-16dc-464a-a58c-fec534bfc982",
    "_uuid": "980fa197-6fa9-4fba-80b4-95bc3a952144",
    "collapsed": false,
    "execution": {
     "iopub.execute_input": "2023-04-19T22:10:54.871065Z",
     "iopub.status.busy": "2023-04-19T22:10:54.870745Z",
     "iopub.status.idle": "2023-04-19T22:10:54.876465Z",
     "shell.execute_reply": "2023-04-19T22:10:54.875556Z"
    },
    "jupyter": {
     "outputs_hidden": false
    },
    "papermill": {
     "duration": 0.013914,
     "end_time": "2023-04-19T22:10:54.878354",
     "exception": false,
     "start_time": "2023-04-19T22:10:54.864440",
     "status": "completed"
    },
    "tags": []
   },
   "outputs": [
    {
     "data": {
      "text/plain": [
       "20000"
      ]
     },
     "execution_count": 7,
     "metadata": {},
     "output_type": "execute_result"
    }
   ],
   "source": [
    "len(labels)"
   ]
  },
  {
   "cell_type": "code",
   "execution_count": 8,
   "id": "92b27e1c",
   "metadata": {
    "_cell_guid": "2544be05-8a71-4b42-bf0a-a8a1c4f8f2c8",
    "_uuid": "7a571312-f6d2-4056-a85d-57df1497c973",
    "collapsed": false,
    "execution": {
     "iopub.execute_input": "2023-04-19T22:10:54.891011Z",
     "iopub.status.busy": "2023-04-19T22:10:54.889520Z",
     "iopub.status.idle": "2023-04-19T22:10:54.895004Z",
     "shell.execute_reply": "2023-04-19T22:10:54.894167Z"
    },
    "jupyter": {
     "outputs_hidden": false
    },
    "papermill": {
     "duration": 0.013541,
     "end_time": "2023-04-19T22:10:54.897019",
     "exception": false,
     "start_time": "2023-04-19T22:10:54.883478",
     "status": "completed"
    },
    "tags": []
   },
   "outputs": [],
   "source": [
    "dataset_path = Path('kaggle/working')"
   ]
  },
  {
   "cell_type": "markdown",
   "id": "a712bc58",
   "metadata": {
    "_cell_guid": "cec876e1-38c9-4258-b441-1da9bb9687cc",
    "_uuid": "9eb2abaf-42ce-48f0-b4d4-0321b1a9a11b",
    "papermill": {
     "duration": 0.005173,
     "end_time": "2023-04-19T22:10:54.907682",
     "exception": false,
     "start_time": "2023-04-19T22:10:54.902509",
     "status": "completed"
    },
    "tags": []
   },
   "source": [
    "### Create the dataloaders"
   ]
  },
  {
   "cell_type": "code",
   "execution_count": 9,
   "id": "86cc28e8",
   "metadata": {
    "_cell_guid": "d118a6ae-4344-45ff-bcd5-8f82b020a320",
    "_uuid": "bc7238e1-18ba-4e7b-839b-0c5973e1a13f",
    "collapsed": false,
    "execution": {
     "iopub.execute_input": "2023-04-19T22:10:54.919730Z",
     "iopub.status.busy": "2023-04-19T22:10:54.918947Z",
     "iopub.status.idle": "2023-04-19T22:10:59.117058Z",
     "shell.execute_reply": "2023-04-19T22:10:59.116056Z"
    },
    "jupyter": {
     "outputs_hidden": false
    },
    "papermill": {
     "duration": 4.206543,
     "end_time": "2023-04-19T22:10:59.119466",
     "exception": false,
     "start_time": "2023-04-19T22:10:54.912923",
     "status": "completed"
    },
    "tags": []
   },
   "outputs": [],
   "source": [
    "dataloaders = ImageDataLoaders.from_lists(\n",
    "    # What images to use:\n",
    "    path=dataset_path, fnames=image_files, labels=labels,\n",
    "\n",
    "    # train-test split parameters:\n",
    "    # - amount to hold out for validation:\n",
    "    valid_pct=0.2,\n",
    "    # - set the seed used for the train-test split (not the training)\n",
    "    seed=15, \n",
    "\n",
    "    # Set batch size\n",
    "    bs=16,\n",
    ")"
   ]
  },
  {
   "cell_type": "code",
   "execution_count": 10,
   "id": "0ebc0ae2",
   "metadata": {
    "_cell_guid": "749b21ec-00dd-4e1b-a8c1-f288353f9160",
    "_uuid": "c6534396-5dda-4d36-90e2-db5266ae3c91",
    "collapsed": false,
    "execution": {
     "iopub.execute_input": "2023-04-19T22:10:59.133325Z",
     "iopub.status.busy": "2023-04-19T22:10:59.131580Z",
     "iopub.status.idle": "2023-04-19T22:10:59.551459Z",
     "shell.execute_reply": "2023-04-19T22:10:59.550491Z"
    },
    "jupyter": {
     "outputs_hidden": false
    },
    "papermill": {
     "duration": 0.428437,
     "end_time": "2023-04-19T22:10:59.553517",
     "exception": false,
     "start_time": "2023-04-19T22:10:59.125080",
     "status": "completed"
    },
    "tags": []
   },
   "outputs": [
    {
     "data": {
      "image/png": "[encoded data removed]",
      "text/plain": [
       "<Figure size 648x648 with 9 Axes>"
      ]
     },
     "metadata": {
      "needs_background": "light"
     },
     "output_type": "display_data"
    }
   ],
   "source": [
    "dataloaders.train.show_batch()"
   ]
  },
  {
   "cell_type": "code",
   "execution_count": 11,
   "id": "f34d01e9",
   "metadata": {
    "_cell_guid": "03a78639-c62e-4c7e-9a80-3f93b0e280f9",
    "_uuid": "1642ab3f-3e99-4b13-bb16-a820436c7bed",
    "collapsed": false,
    "execution": {
     "iopub.execute_input": "2023-04-19T22:10:59.566066Z",
     "iopub.status.busy": "2023-04-19T22:10:59.565766Z",
     "iopub.status.idle": "2023-04-19T22:10:59.571064Z",
     "shell.execute_reply": "2023-04-19T22:10:59.570043Z"
    },
    "jupyter": {
     "outputs_hidden": false
    },
    "papermill": {
     "duration": 0.015446,
     "end_time": "2023-04-19T22:10:59.574656",
     "exception": false,
     "start_time": "2023-04-19T22:10:59.559210",
     "status": "completed"
    },
    "tags": []
   },
   "outputs": [
    {
     "name": "stdout",
     "output_type": "stream",
     "text": [
      "Available categories: ['bicycle', 'cactus', 'camera', 'flower', 'helicopter', 'monkey', 'moon', 'mug', 'octopus', 'owl', 'panda', 'shorts', 'strawberry', 'submarine', 'sword', 'telephone', 'tree', 'truck', 'violin', 'windmill']\n"
     ]
    }
   ],
   "source": [
    "print(f\"Available categories: {dataloaders.train.vocab}\")"
   ]
  },
  {
   "cell_type": "code",
   "execution_count": 12,
   "id": "7f1b6d0e",
   "metadata": {
    "_cell_guid": "2010a5ac-60e1-4817-b2ec-7f00b2b1c19b",
    "_uuid": "acb0e7fa-cc5e-4b57-9e30-716dea8685b1",
    "collapsed": false,
    "execution": {
     "iopub.execute_input": "2023-04-19T22:10:59.587196Z",
     "iopub.status.busy": "2023-04-19T22:10:59.586899Z",
     "iopub.status.idle": "2023-04-19T22:10:59.593757Z",
     "shell.execute_reply": "2023-04-19T22:10:59.592766Z"
    },
    "jupyter": {
     "outputs_hidden": false
    },
    "papermill": {
     "duration": 0.015574,
     "end_time": "2023-04-19T22:10:59.595989",
     "exception": false,
     "start_time": "2023-04-19T22:10:59.580415",
     "status": "completed"
    },
    "tags": []
   },
   "outputs": [
    {
     "name": "stdout",
     "output_type": "stream",
     "text": [
      "16000 training images\n",
      "4000 validation images\n"
     ]
    }
   ],
   "source": [
    "print(dataloaders.train.n, \"training images\")\n",
    "print(dataloaders.valid.n, \"validation images\")"
   ]
  },
  {
   "cell_type": "markdown",
   "id": "62237650",
   "metadata": {
    "papermill": {
     "duration": 0.005394,
     "end_time": "2023-04-19T22:10:59.606975",
     "exception": false,
     "start_time": "2023-04-19T22:10:59.601581",
     "status": "completed"
    },
    "tags": []
   },
   "source": [
    "### Train the model"
   ]
  },
  {
   "cell_type": "code",
   "execution_count": 13,
   "id": "854fc6a5",
   "metadata": {
    "_cell_guid": "fc180de4-6837-4a80-a00a-eb073fae2092",
    "_uuid": "cce15ab3-08a9-4cdc-a08a-ac43cd2a0f20",
    "collapsed": false,
    "execution": {
     "iopub.execute_input": "2023-04-19T22:10:59.619670Z",
     "iopub.status.busy": "2023-04-19T22:10:59.619383Z",
     "iopub.status.idle": "2023-04-19T22:29:52.344587Z",
     "shell.execute_reply": "2023-04-19T22:29:52.343529Z"
    },
    "jupyter": {
     "outputs_hidden": false
    },
    "papermill": {
     "duration": 1132.733972,
     "end_time": "2023-04-19T22:29:52.346872",
     "exception": false,
     "start_time": "2023-04-19T22:10:59.612900",
     "status": "completed"
    },
    "tags": []
   },
   "outputs": [
    {
     "name": "stderr",
     "output_type": "stream",
     "text": [
      "Downloading: \"https://download.pytorch.org/models/resnet34-b627a593.pth\" to /root/.cache/torch/hub/checkpoints/resnet34-b627a593.pth\n"
     ]
    },
    {
     "data": {
      "application/vnd.jupyter.widget-view+json": {
       "model_id": "49f5a4eb62564109ac592b7017f9b318",
       "version_major": 2,
       "version_minor": 0
      },
      "text/plain": [
       "  0%|          | 0.00/83.3M [00:00<?, ?B/s]"
      ]
     },
     "metadata": {},
     "output_type": "display_data"
    },
    {
     "data": {
      "text/html": [
       "\n",
       "<style>\n",
       "    /* Turns off some styling */\n",
       "    progress {\n",
       "        /* gets rid of default border in Firefox and Opera. */\n",
       "        border: none;\n",
       "        /* Needs to be in here for Safari polyfill so background images work as expected. */\n",
       "        background-size: auto;\n",
       "    }\n",
       "    progress:not([value]), progress:not([value])::-webkit-progress-bar {\n",
       "        background: repeating-linear-gradient(45deg, #7e7e7e, #7e7e7e 10px, #5c5c5c 10px, #5c5c5c 20px);\n",
       "    }\n",
       "    .progress-bar-interrupted, .progress-bar-interrupted::-webkit-progress-bar {\n",
       "        background: #F44336;\n",
       "    }\n",
       "</style>\n"
      ],
      "text/plain": [
       "<IPython.core.display.HTML object>"
      ]
     },
     "metadata": {},
     "output_type": "display_data"
    },
    {
     "data": {
      "text/html": [
       "<table border=\"1\" class=\"dataframe\">\n",
       "  <thead>\n",
       "    <tr style=\"text-align: left;\">\n",
       "      <th>epoch</th>\n",
       "      <th>train_loss</th>\n",
       "      <th>valid_loss</th>\n",
       "      <th>accuracy</th>\n",
       "      <th>error_rate</th>\n",
       "      <th>time</th>\n",
       "    </tr>\n",
       "  </thead>\n",
       "  <tbody>\n",
       "    <tr>\n",
       "      <td>0</td>\n",
       "      <td>2.125255</td>\n",
       "      <td>1.774972</td>\n",
       "      <td>0.519250</td>\n",
       "      <td>0.480750</td>\n",
       "      <td>00:53</td>\n",
       "    </tr>\n",
       "  </tbody>\n",
       "</table>"
      ],
      "text/plain": [
       "<IPython.core.display.HTML object>"
      ]
     },
     "metadata": {},
     "output_type": "display_data"
    },
    {
     "data": {
      "text/html": [
       "\n",
       "<style>\n",
       "    /* Turns off some styling */\n",
       "    progress {\n",
       "        /* gets rid of default border in Firefox and Opera. */\n",
       "        border: none;\n",
       "        /* Needs to be in here for Safari polyfill so background images work as expected. */\n",
       "        background-size: auto;\n",
       "    }\n",
       "    progress:not([value]), progress:not([value])::-webkit-progress-bar {\n",
       "        background: repeating-linear-gradient(45deg, #7e7e7e, #7e7e7e 10px, #5c5c5c 10px, #5c5c5c 20px);\n",
       "    }\n",
       "    .progress-bar-interrupted, .progress-bar-interrupted::-webkit-progress-bar {\n",
       "        background: #F44336;\n",
       "    }\n",
       "</style>\n"
      ],
      "text/plain": [
       "<IPython.core.display.HTML object>"
      ]
     },
     "metadata": {},
     "output_type": "display_data"
    },
    {
     "data": {
      "text/html": [
       "<table border=\"1\" class=\"dataframe\">\n",
       "  <thead>\n",
       "    <tr style=\"text-align: left;\">\n",
       "      <th>epoch</th>\n",
       "      <th>train_loss</th>\n",
       "      <th>valid_loss</th>\n",
       "      <th>accuracy</th>\n",
       "      <th>error_rate</th>\n",
       "      <th>time</th>\n",
       "    </tr>\n",
       "  </thead>\n",
       "  <tbody>\n",
       "    <tr>\n",
       "      <td>0</td>\n",
       "      <td>1.422565</td>\n",
       "      <td>1.105219</td>\n",
       "      <td>0.678750</td>\n",
       "      <td>0.321250</td>\n",
       "      <td>00:54</td>\n",
       "    </tr>\n",
       "    <tr>\n",
       "      <td>1</td>\n",
       "      <td>1.189315</td>\n",
       "      <td>0.856020</td>\n",
       "      <td>0.753250</td>\n",
       "      <td>0.246750</td>\n",
       "      <td>00:54</td>\n",
       "    </tr>\n",
       "    <tr>\n",
       "      <td>2</td>\n",
       "      <td>0.999626</td>\n",
       "      <td>0.764800</td>\n",
       "      <td>0.781500</td>\n",
       "      <td>0.218500</td>\n",
       "      <td>00:53</td>\n",
       "    </tr>\n",
       "    <tr>\n",
       "      <td>3</td>\n",
       "      <td>0.904579</td>\n",
       "      <td>0.675827</td>\n",
       "      <td>0.819000</td>\n",
       "      <td>0.181000</td>\n",
       "      <td>00:54</td>\n",
       "    </tr>\n",
       "    <tr>\n",
       "      <td>4</td>\n",
       "      <td>0.793715</td>\n",
       "      <td>0.661531</td>\n",
       "      <td>0.819250</td>\n",
       "      <td>0.180750</td>\n",
       "      <td>00:54</td>\n",
       "    </tr>\n",
       "    <tr>\n",
       "      <td>5</td>\n",
       "      <td>0.694475</td>\n",
       "      <td>0.650467</td>\n",
       "      <td>0.823500</td>\n",
       "      <td>0.176500</td>\n",
       "      <td>00:55</td>\n",
       "    </tr>\n",
       "    <tr>\n",
       "      <td>6</td>\n",
       "      <td>0.675450</td>\n",
       "      <td>0.521860</td>\n",
       "      <td>0.856250</td>\n",
       "      <td>0.143750</td>\n",
       "      <td>00:53</td>\n",
       "    </tr>\n",
       "    <tr>\n",
       "      <td>7</td>\n",
       "      <td>0.518429</td>\n",
       "      <td>0.523217</td>\n",
       "      <td>0.848250</td>\n",
       "      <td>0.151750</td>\n",
       "      <td>00:53</td>\n",
       "    </tr>\n",
       "    <tr>\n",
       "      <td>8</td>\n",
       "      <td>0.446148</td>\n",
       "      <td>0.601883</td>\n",
       "      <td>0.844000</td>\n",
       "      <td>0.156000</td>\n",
       "      <td>00:53</td>\n",
       "    </tr>\n",
       "    <tr>\n",
       "      <td>9</td>\n",
       "      <td>0.346209</td>\n",
       "      <td>0.471242</td>\n",
       "      <td>0.870250</td>\n",
       "      <td>0.129750</td>\n",
       "      <td>00:52</td>\n",
       "    </tr>\n",
       "    <tr>\n",
       "      <td>10</td>\n",
       "      <td>0.314959</td>\n",
       "      <td>0.498524</td>\n",
       "      <td>0.864250</td>\n",
       "      <td>0.135750</td>\n",
       "      <td>00:52</td>\n",
       "    </tr>\n",
       "    <tr>\n",
       "      <td>11</td>\n",
       "      <td>0.262785</td>\n",
       "      <td>0.481227</td>\n",
       "      <td>0.870250</td>\n",
       "      <td>0.129750</td>\n",
       "      <td>00:54</td>\n",
       "    </tr>\n",
       "    <tr>\n",
       "      <td>12</td>\n",
       "      <td>0.178924</td>\n",
       "      <td>0.487482</td>\n",
       "      <td>0.869500</td>\n",
       "      <td>0.130500</td>\n",
       "      <td>00:55</td>\n",
       "    </tr>\n",
       "    <tr>\n",
       "      <td>13</td>\n",
       "      <td>0.149481</td>\n",
       "      <td>0.507681</td>\n",
       "      <td>0.872500</td>\n",
       "      <td>0.127500</td>\n",
       "      <td>00:54</td>\n",
       "    </tr>\n",
       "    <tr>\n",
       "      <td>14</td>\n",
       "      <td>0.116280</td>\n",
       "      <td>0.527384</td>\n",
       "      <td>0.876000</td>\n",
       "      <td>0.124000</td>\n",
       "      <td>00:54</td>\n",
       "    </tr>\n",
       "    <tr>\n",
       "      <td>15</td>\n",
       "      <td>0.082265</td>\n",
       "      <td>0.566138</td>\n",
       "      <td>0.870500</td>\n",
       "      <td>0.129500</td>\n",
       "      <td>00:54</td>\n",
       "    </tr>\n",
       "    <tr>\n",
       "      <td>16</td>\n",
       "      <td>0.062666</td>\n",
       "      <td>0.541102</td>\n",
       "      <td>0.875250</td>\n",
       "      <td>0.124750</td>\n",
       "      <td>00:52</td>\n",
       "    </tr>\n",
       "    <tr>\n",
       "      <td>17</td>\n",
       "      <td>0.071492</td>\n",
       "      <td>0.554048</td>\n",
       "      <td>0.877000</td>\n",
       "      <td>0.123000</td>\n",
       "      <td>00:53</td>\n",
       "    </tr>\n",
       "    <tr>\n",
       "      <td>18</td>\n",
       "      <td>0.052667</td>\n",
       "      <td>0.542416</td>\n",
       "      <td>0.878000</td>\n",
       "      <td>0.122000</td>\n",
       "      <td>00:53</td>\n",
       "    </tr>\n",
       "    <tr>\n",
       "      <td>19</td>\n",
       "      <td>0.058360</td>\n",
       "      <td>0.541575</td>\n",
       "      <td>0.877000</td>\n",
       "      <td>0.123000</td>\n",
       "      <td>00:52</td>\n",
       "    </tr>\n",
       "  </tbody>\n",
       "</table>"
      ],
      "text/plain": [
       "<IPython.core.display.HTML object>"
      ]
     },
     "metadata": {},
     "output_type": "display_data"
    },
    {
     "data": {
      "image/png": "[encoded data removed]",
      "text/plain": [
       "<Figure size 432x288 with 1 Axes>"
      ]
     },
     "metadata": {
      "needs_background": "light"
     },
     "output_type": "display_data"
    }
   ],
   "source": [
    "# fastai-specific\n",
    "learn = vision_learner(\n",
    "    dls=dataloaders,\n",
    "    arch=resnet34,\n",
    "    metrics=[accuracy, error_rate]\n",
    ")\n",
    "learn.fine_tune(epochs=20)\n",
    "learn.recorder.plot_loss()"
   ]
  },
  {
   "cell_type": "markdown",
   "id": "5f9ab102",
   "metadata": {
    "papermill": {
     "duration": 0.00678,
     "end_time": "2023-04-19T22:29:52.360674",
     "exception": false,
     "start_time": "2023-04-19T22:29:52.353894",
     "status": "completed"
    },
    "tags": []
   },
   "source": [
    "### View errors"
   ]
  },
  {
   "cell_type": "code",
   "execution_count": 14,
   "id": "d1d272f1",
   "metadata": {
    "_cell_guid": "814fbade-970b-41ee-b18d-6348fa3c8a07",
    "_uuid": "f396b0a7-b56d-43dc-96e0-c40d69eb702c",
    "collapsed": false,
    "execution": {
     "iopub.execute_input": "2023-04-19T22:29:52.376388Z",
     "iopub.status.busy": "2023-04-19T22:29:52.376080Z",
     "iopub.status.idle": "2023-04-19T22:30:05.565503Z",
     "shell.execute_reply": "2023-04-19T22:30:05.564215Z"
    },
    "jupyter": {
     "outputs_hidden": false
    },
    "papermill": {
     "duration": 13.199874,
     "end_time": "2023-04-19T22:30:05.567789",
     "exception": false,
     "start_time": "2023-04-19T22:29:52.367915",
     "status": "completed"
    },
    "tags": []
   },
   "outputs": [
    {
     "data": {
      "text/html": [
       "\n",
       "<style>\n",
       "    /* Turns off some styling */\n",
       "    progress {\n",
       "        /* gets rid of default border in Firefox and Opera. */\n",
       "        border: none;\n",
       "        /* Needs to be in here for Safari polyfill so background images work as expected. */\n",
       "        background-size: auto;\n",
       "    }\n",
       "    progress:not([value]), progress:not([value])::-webkit-progress-bar {\n",
       "        background: repeating-linear-gradient(45deg, #7e7e7e, #7e7e7e 10px, #5c5c5c 10px, #5c5c5c 20px);\n",
       "    }\n",
       "    .progress-bar-interrupted, .progress-bar-interrupted::-webkit-progress-bar {\n",
       "        background: #F44336;\n",
       "    }\n",
       "</style>\n"
      ],
      "text/plain": [
       "<IPython.core.display.HTML object>"
      ]
     },
     "metadata": {},
     "output_type": "display_data"
    },
    {
     "data": {
      "text/html": [],
      "text/plain": [
       "<IPython.core.display.HTML object>"
      ]
     },
     "metadata": {},
     "output_type": "display_data"
    },
    {
     "data": {
      "text/html": [
       "\n",
       "<style>\n",
       "    /* Turns off some styling */\n",
       "    progress {\n",
       "        /* gets rid of default border in Firefox and Opera. */\n",
       "        border: none;\n",
       "        /* Needs to be in here for Safari polyfill so background images work as expected. */\n",
       "        background-size: auto;\n",
       "    }\n",
       "    progress:not([value]), progress:not([value])::-webkit-progress-bar {\n",
       "        background: repeating-linear-gradient(45deg, #7e7e7e, #7e7e7e 10px, #5c5c5c 10px, #5c5c5c 20px);\n",
       "    }\n",
       "    .progress-bar-interrupted, .progress-bar-interrupted::-webkit-progress-bar {\n",
       "        background: #F44336;\n",
       "    }\n",
       "</style>\n"
      ],
      "text/plain": [
       "<IPython.core.display.HTML object>"
      ]
     },
     "metadata": {},
     "output_type": "display_data"
    },
    {
     "data": {
      "text/html": [],
      "text/plain": [
       "<IPython.core.display.HTML object>"
      ]
     },
     "metadata": {},
     "output_type": "display_data"
    },
    {
     "name": "stdout",
     "output_type": "stream",
     "text": [
      "              precision    recall  f1-score   support\n",
      "\n",
      "     bicycle       0.96      0.94      0.95       202\n",
      "      cactus       0.92      0.89      0.91       208\n",
      "      camera       0.95      0.94      0.94       190\n",
      "      flower       0.77      0.89      0.83       204\n",
      "  helicopter       0.84      0.89      0.87       190\n",
      "      monkey       0.76      0.59      0.66       211\n",
      "        moon       0.90      0.92      0.91       198\n",
      "         mug       0.92      0.93      0.92       211\n",
      "     octopus       0.94      0.94      0.94       208\n",
      "         owl       0.78      0.81      0.79       229\n",
      "       panda       0.68      0.70      0.69       174\n",
      "      shorts       0.96      0.96      0.96       206\n",
      "  strawberry       0.95      0.92      0.93       191\n",
      "   submarine       0.89      0.88      0.88       194\n",
      "       sword       0.93      0.93      0.93       195\n",
      "   telephone       0.88      0.86      0.87       195\n",
      "        tree       0.88      0.85      0.87       200\n",
      "       truck       0.91      0.94      0.92       191\n",
      "      violin       0.89      0.89      0.89       199\n",
      "    windmill       0.86      0.88      0.87       204\n",
      "\n",
      "    accuracy                           0.88      4000\n",
      "   macro avg       0.88      0.88      0.88      4000\n",
      "weighted avg       0.88      0.88      0.88      4000\n",
      "\n"
     ]
    }
   ],
   "source": [
    "interp = ClassificationInterpretation.from_learner(learn)\n",
    "interp.print_classification_report()"
   ]
  },
  {
   "cell_type": "code",
   "execution_count": 15,
   "id": "5d92dc8f",
   "metadata": {
    "execution": {
     "iopub.execute_input": "2023-04-19T22:30:05.584279Z",
     "iopub.status.busy": "2023-04-19T22:30:05.583989Z",
     "iopub.status.idle": "2023-04-19T22:30:06.408002Z",
     "shell.execute_reply": "2023-04-19T22:30:06.406891Z"
    },
    "papermill": {
     "duration": 0.834737,
     "end_time": "2023-04-19T22:30:06.410278",
     "exception": false,
     "start_time": "2023-04-19T22:30:05.575541",
     "status": "completed"
    },
    "tags": []
   },
   "outputs": [
    {
     "data": {
      "text/html": [
       "\n",
       "<style>\n",
       "    /* Turns off some styling */\n",
       "    progress {\n",
       "        /* gets rid of default border in Firefox and Opera. */\n",
       "        border: none;\n",
       "        /* Needs to be in here for Safari polyfill so background images work as expected. */\n",
       "        background-size: auto;\n",
       "    }\n",
       "    progress:not([value]), progress:not([value])::-webkit-progress-bar {\n",
       "        background: repeating-linear-gradient(45deg, #7e7e7e, #7e7e7e 10px, #5c5c5c 10px, #5c5c5c 20px);\n",
       "    }\n",
       "    .progress-bar-interrupted, .progress-bar-interrupted::-webkit-progress-bar {\n",
       "        background: #F44336;\n",
       "    }\n",
       "</style>\n"
      ],
      "text/plain": [
       "<IPython.core.display.HTML object>"
      ]
     },
     "metadata": {},
     "output_type": "display_data"
    },
    {
     "data": {
      "text/html": [],
      "text/plain": [
       "<IPython.core.display.HTML object>"
      ]
     },
     "metadata": {},
     "output_type": "display_data"
    },
    {
     "data": {
      "image/png": "[encoded data removed]",
      "text/plain": [
       "<Figure size 1080x648 with 15 Axes>"
      ]
     },
     "metadata": {
      "needs_background": "light"
     },
     "output_type": "display_data"
    }
   ],
   "source": [
    "interp.plot_top_losses(15)"
   ]
  },
  {
   "cell_type": "markdown",
   "id": "98c4dd39",
   "metadata": {
    "papermill": {
     "duration": 0.007893,
     "end_time": "2023-04-19T22:30:06.426388",
     "exception": false,
     "start_time": "2023-04-19T22:30:06.418495",
     "status": "completed"
    },
    "tags": []
   },
   "source": [
    "### Export model"
   ]
  },
  {
   "cell_type": "code",
   "execution_count": 16,
   "id": "3249373d",
   "metadata": {
    "execution": {
     "iopub.execute_input": "2023-04-19T22:30:06.444767Z",
     "iopub.status.busy": "2023-04-19T22:30:06.443765Z",
     "iopub.status.idle": "2023-04-19T22:30:06.855980Z",
     "shell.execute_reply": "2023-04-19T22:30:06.855002Z"
    },
    "papermill": {
     "duration": 0.424049,
     "end_time": "2023-04-19T22:30:06.858290",
     "exception": false,
     "start_time": "2023-04-19T22:30:06.434241",
     "status": "completed"
    },
    "tags": []
   },
   "outputs": [],
   "source": [
    "learn.export('/kaggle/working/doodle_classifier.pkl')"
   ]
  }
 ],
 "metadata": {
  "kernelspec": {
   "display_name": "Python 3",
   "language": "python",
   "name": "python3"
  },
  "language_info": {
   "codemirror_mode": {
    "name": "ipython",
    "version": 3
   },
   "file_extension": ".py",
   "mimetype": "text/x-python",
   "name": "python",
   "nbconvert_exporter": "python",
   "pygments_lexer": "ipython3",
   "version": "3.7.12"
  },
  "papermill": {
   "default_parameters": {},
   "duration": 1187.936984,
   "end_time": "2023-04-19T22:30:09.444401",
   "environment_variables": {},
   "exception": null,
   "input_path": "__notebook__.ipynb",
   "output_path": "__notebook__.ipynb",
   "parameters": {},
   "start_time": "2023-04-19T22:10:21.507417",
   "version": "2.3.4"
  },
  "widgets": {
   "application/vnd.jupyter.widget-state+json": {
    "state": {
     "24abd490cc21423caabf20d04766ae11": {
      "model_module": "@jupyter-widgets/controls",
      "model_module_version": "1.5.0",
      "model_name": "DescriptionStyleModel",
      "state": {
       "_model_module": "@jupyter-widgets/controls",
       "_model_module_version": "1.5.0",
       "_model_name": "DescriptionStyleModel",
       "_view_count": null,
       "_view_module": "@jupyter-widgets/base",
       "_view_module_version": "1.2.0",
       "_view_name": "StyleView",
       "description_width": ""
      }
     },
     "30a8bd37a7954fc4b9e804c1a8e4820f": {
      "model_module": "@jupyter-widgets/controls",
      "model_module_version": "1.5.0",
      "model_name": "HTMLModel",
      "state": {
       "_dom_classes": [],
       "_model_module": "@jupyter-widgets/controls",
       "_model_module_version": "1.5.0",
       "_model_name": "HTMLModel",
       "_view_count": null,
       "_view_module": "@jupyter-widgets/controls",
       "_view_module_version": "1.5.0",
       "_view_name": "HTMLView",
       "description": "",
       "description_tooltip": null,
       "layout": "IPY_MODEL_6ab2c15956914b6ea6f0627bae7f5b84",
       "placeholder": "​",
       "style": "IPY_MODEL_24abd490cc21423caabf20d04766ae11",
       "value": "100%"
      }
     },
     "49f5a4eb62564109ac592b7017f9b318": {
      "model_module": "@jupyter-widgets/controls",
      "model_module_version": "1.5.0",
      "model_name": "HBoxModel",
      "state": {
       "_dom_classes": [],
       "_model_module": "@jupyter-widgets/controls",
       "_model_module_version": "1.5.0",
       "_model_name": "HBoxModel",
       "_view_count": null,
       "_view_module": "@jupyter-widgets/controls",
       "_view_module_version": "1.5.0",
       "_view_name": "HBoxView",
       "box_style": "",
       "children": [
        "IPY_MODEL_30a8bd37a7954fc4b9e804c1a8e4820f",
        "IPY_MODEL_c1e9c070efdf4b6e9eccbfb82174c325",
        "IPY_MODEL_505e920165524ee9b60362c3666fa007"
       ],
       "layout": "IPY_MODEL_e0eda422c7a3435a94016db6aec7e8a1"
      }
     },
     "505e920165524ee9b60362c3666fa007": {
      "model_module": "@jupyter-widgets/controls",
      "model_module_version": "1.5.0",
      "model_name": "HTMLModel",
      "state": {
       "_dom_classes": [],
       "_model_module": "@jupyter-widgets/controls",
       "_model_module_version": "1.5.0",
       "_model_name": "HTMLModel",
       "_view_count": null,
       "_view_module": "@jupyter-widgets/controls",
       "_view_module_version": "1.5.0",
       "_view_name": "HTMLView",
       "description": "",
       "description_tooltip": null,
       "layout": "IPY_MODEL_f842c7af2ae5475782f9a7de75fc656f",
       "placeholder": "​",
       "style": "IPY_MODEL_6f023cf3ee6a453c9a94411e87e095dc",
       "value": " 83.3M/83.3M [00:01&lt;00:00, 74.1MB/s]"
      }
     },
     "6ab2c15956914b6ea6f0627bae7f5b84": {
      "model_module": "@jupyter-widgets/base",
      "model_module_version": "1.2.0",
      "model_name": "LayoutModel",
      "state": {
       "_model_module": "@jupyter-widgets/base",
       "_model_module_version": "1.2.0",
       "_model_name": "LayoutModel",
       "_view_count": null,
       "_view_module": "@jupyter-widgets/base",
       "_view_module_version": "1.2.0",
       "_view_name": "LayoutView",
       "align_content": null,
       "align_items": null,
       "align_self": null,
       "border": null,
       "bottom": null,
       "display": null,
       "flex": null,
       "flex_flow": null,
       "grid_area": null,
       "grid_auto_columns": null,
       "grid_auto_flow": null,
       "grid_auto_rows": null,
       "grid_column": null,
       "grid_gap": null,
       "grid_row": null,
       "grid_template_areas": null,
       "grid_template_columns": null,
       "grid_template_rows": null,
       "height": null,
       "justify_content": null,
       "justify_items": null,
       "left": null,
       "margin": null,
       "max_height": null,
       "max_width": null,
       "min_height": null,
       "min_width": null,
       "object_fit": null,
       "object_position": null,
       "order": null,
       "overflow": null,
       "overflow_x": null,
       "overflow_y": null,
       "padding": null,
       "right": null,
       "top": null,
       "visibility": null,
       "width": null
      }
     },
     "6f023cf3ee6a453c9a94411e87e095dc": {
      "model_module": "@jupyter-widgets/controls",
      "model_module_version": "1.5.0",
      "model_name": "DescriptionStyleModel",
      "state": {
       "_model_module": "@jupyter-widgets/controls",
       "_model_module_version": "1.5.0",
       "_model_name": "DescriptionStyleModel",
       "_view_count": null,
       "_view_module": "@jupyter-widgets/base",
       "_view_module_version": "1.2.0",
       "_view_name": "StyleView",
       "description_width": ""
      }
     },
     "c1e9c070efdf4b6e9eccbfb82174c325": {
      "model_module": "@jupyter-widgets/controls",
      "model_module_version": "1.5.0",
      "model_name": "FloatProgressModel",
      "state": {
       "_dom_classes": [],
       "_model_module": "@jupyter-widgets/controls",
       "_model_module_version": "1.5.0",
       "_model_name": "FloatProgressModel",
       "_view_count": null,
       "_view_module": "@jupyter-widgets/controls",
       "_view_module_version": "1.5.0",
       "_view_name": "ProgressView",
       "bar_style": "success",
       "description": "",
       "description_tooltip": null,
       "layout": "IPY_MODEL_d72ce6f04bfc48fc962f11712f0ba390",
       "max": 87319819.0,
       "min": 0.0,
       "orientation": "horizontal",
       "style": "IPY_MODEL_dacce053ef87458eaa8042d774ad7c25",
       "value": 87319819.0
      }
     },
     "d72ce6f04bfc48fc962f11712f0ba390": {
      "model_module": "@jupyter-widgets/base",
      "model_module_version": "1.2.0",
      "model_name": "LayoutModel",
      "state": {
       "_model_module": "@jupyter-widgets/base",
       "_model_module_version": "1.2.0",
       "_model_name": "LayoutModel",
       "_view_count": null,
       "_view_module": "@jupyter-widgets/base",
       "_view_module_version": "1.2.0",
       "_view_name": "LayoutView",
       "align_content": null,
       "align_items": null,
       "align_self": null,
       "border": null,
       "bottom": null,
       "display": null,
       "flex": null,
       "flex_flow": null,
       "grid_area": null,
       "grid_auto_columns": null,
       "grid_auto_flow": null,
       "grid_auto_rows": null,
       "grid_column": null,
       "grid_gap": null,
       "grid_row": null,
       "grid_template_areas": null,
       "grid_template_columns": null,
       "grid_template_rows": null,
       "height": null,
       "justify_content": null,
       "justify_items": null,
       "left": null,
       "margin": null,
       "max_height": null,
       "max_width": null,
       "min_height": null,
       "min_width": null,
       "object_fit": null,
       "object_position": null,
       "order": null,
       "overflow": null,
       "overflow_x": null,
       "overflow_y": null,
       "padding": null,
       "right": null,
       "top": null,
       "visibility": null,
       "width": null
      }
     },
     "dacce053ef87458eaa8042d774ad7c25": {
      "model_module": "@jupyter-widgets/controls",
      "model_module_version": "1.5.0",
      "model_name": "ProgressStyleModel",
      "state": {
       "_model_module": "@jupyter-widgets/controls",
       "_model_module_version": "1.5.0",
       "_model_name": "ProgressStyleModel",
       "_view_count": null,
       "_view_module": "@jupyter-widgets/base",
       "_view_module_version": "1.2.0",
       "_view_name": "StyleView",
       "bar_color": null,
       "description_width": ""
      }
     },
     "e0eda422c7a3435a94016db6aec7e8a1": {
      "model_module": "@jupyter-widgets/base",
      "model_module_version": "1.2.0",
      "model_name": "LayoutModel",
      "state": {
       "_model_module": "@jupyter-widgets/base",
       "_model_module_version": "1.2.0",
       "_model_name": "LayoutModel",
       "_view_count": null,
       "_view_module": "@jupyter-widgets/base",
       "_view_module_version": "1.2.0",
       "_view_name": "LayoutView",
       "align_content": null,
       "align_items": null,
       "align_self": null,
       "border": null,
       "bottom": null,
       "display": null,
       "flex": null,
       "flex_flow": null,
       "grid_area": null,
       "grid_auto_columns": null,
       "grid_auto_flow": null,
       "grid_auto_rows": null,
       "grid_column": null,
       "grid_gap": null,
       "grid_row": null,
       "grid_template_areas": null,
       "grid_template_columns": null,
       "grid_template_rows": null,
       "height": null,
       "justify_content": null,
       "justify_items": null,
       "left": null,
       "margin": null,
       "max_height": null,
       "max_width": null,
       "min_height": null,
       "min_width": null,
       "object_fit": null,
       "object_position": null,
       "order": null,
       "overflow": null,
       "overflow_x": null,
       "overflow_y": null,
       "padding": null,
       "right": null,
       "top": null,
       "visibility": null,
       "width": null
      }
     },
     "f842c7af2ae5475782f9a7de75fc656f": {
      "model_module": "@jupyter-widgets/base",
      "model_module_version": "1.2.0",
      "model_name": "LayoutModel",
      "state": {
       "_model_module": "@jupyter-widgets/base",
       "_model_module_version": "1.2.0",
       "_model_name": "LayoutModel",
       "_view_count": null,
       "_view_module": "@jupyter-widgets/base",
       "_view_module_version": "1.2.0",
       "_view_name": "LayoutView",
       "align_content": null,
       "align_items": null,
       "align_self": null,
       "border": null,
       "bottom": null,
       "display": null,
       "flex": null,
       "flex_flow": null,
       "grid_area": null,
       "grid_auto_columns": null,
       "grid_auto_flow": null,
       "grid_auto_rows": null,
       "grid_column": null,
       "grid_gap": null,
       "grid_row": null,
       "grid_template_areas": null,
       "grid_template_columns": null,
       "grid_template_rows": null,
       "height": null,
       "justify_content": null,
       "justify_items": null,
       "left": null,
       "margin": null,
       "max_height": null,
       "max_width": null,
       "min_height": null,
       "min_width": null,
       "object_fit": null,
       "object_position": null,
       "order": null,
       "overflow": null,
       "overflow_x": null,
       "overflow_y": null,
       "padding": null,
       "right": null,
       "top": null,
       "visibility": null,
       "width": null
      }
     }
    },
    "version_major": 2,
    "version_minor": 0
   }
  }
 },
 "nbformat": 4,
 "nbformat_minor": 5
}
