{
 "cells": [
  {
   "cell_type": "markdown",
   "id": "a4543b1e",
   "metadata": {
    "papermill": {
     "duration": 0.011551,
     "end_time": "2023-04-17T20:41:57.416667",
     "exception": false,
     "start_time": "2023-04-17T20:41:57.405116",
     "status": "completed"
    },
    "tags": []
   },
   "source": [
    "# Train Simple Image Classifier\n",
    "\n",
    "Task: Train a simple image classifier using logistic regression and cross-entropy loss"
   ]
  },
  {
   "cell_type": "markdown",
   "id": "35b2fbfa",
   "metadata": {
    "papermill": {
     "duration": 0.011532,
     "end_time": "2023-04-17T20:41:57.438643",
     "exception": false,
     "start_time": "2023-04-17T20:41:57.427111",
     "status": "completed"
    },
    "tags": []
   },
   "source": [
    "## Setup"
   ]
  },
  {
   "cell_type": "code",
   "execution_count": 1,
   "id": "3e88e88f",
   "metadata": {
    "execution": {
     "iopub.execute_input": "2023-04-17T20:41:57.461685Z",
     "iopub.status.busy": "2023-04-17T20:41:57.460461Z",
     "iopub.status.idle": "2023-04-17T20:42:01.513865Z",
     "shell.execute_reply": "2023-04-17T20:42:01.512776Z"
    },
    "papermill": {
     "duration": 4.067737,
     "end_time": "2023-04-17T20:42:01.516512",
     "exception": false,
     "start_time": "2023-04-17T20:41:57.448775",
     "status": "completed"
    },
    "tags": []
   },
   "outputs": [],
   "source": [
    "try:\n",
    "    import fastai\n",
    "except ImportError:\n",
    "    print(\"installing fastai...\")\n",
    "    !pip install -Uqq fastai\n",
    "\n",
    "import torch\n",
    "from fastai.vision.all import *\n",
    "# Input tensors get tagged as `TensorImageBW`, and they keep that tag even after going through the model.\n",
    "# I'm not sure how you're supposed to drop that tag, but this works around a type dispatch error.\n",
    "TensorImageBW.register_func(F.cross_entropy, TensorImageBW, TensorCategory)\n",
    "\n",
    "import sys\n",
    "if sys.platform == \"darwin\":\n",
    "    # https://stackoverflow.com/a/64855500/69707\n",
    "    import os\n",
    "    os.environ['OMP_NUM_THREADS'] = '1'\n",
    "    \n",
    "import numpy as np\n",
    "from matplotlib import pyplot as plt\n",
    "import random"
   ]
  },
  {
   "cell_type": "code",
   "execution_count": 2,
   "id": "adf65d4d",
   "metadata": {
    "execution": {
     "iopub.execute_input": "2023-04-17T20:42:01.538750Z",
     "iopub.status.busy": "2023-04-17T20:42:01.538462Z",
     "iopub.status.idle": "2023-04-17T20:42:01.545201Z",
     "shell.execute_reply": "2023-04-17T20:42:01.544388Z"
    },
    "papermill": {
     "duration": 0.020268,
     "end_time": "2023-04-17T20:42:01.547299",
     "exception": false,
     "start_time": "2023-04-17T20:42:01.527031",
     "status": "completed"
    },
    "tags": []
   },
   "outputs": [],
   "source": [
    "torch.manual_seed(34);"
   ]
  },
  {
   "cell_type": "markdown",
   "id": "5426b12e",
   "metadata": {
    "papermill": {
     "duration": 0.010081,
     "end_time": "2023-04-17T20:42:01.567393",
     "exception": false,
     "start_time": "2023-04-17T20:42:01.557312",
     "status": "completed"
    },
    "tags": []
   },
   "source": [
    "### Load the lanterns"
   ]
  },
  {
   "cell_type": "code",
   "execution_count": 3,
   "id": "bebc01c1",
   "metadata": {
    "execution": {
     "iopub.execute_input": "2023-04-17T20:42:01.589256Z",
     "iopub.status.busy": "2023-04-17T20:42:01.588504Z",
     "iopub.status.idle": "2023-04-17T20:42:02.817652Z",
     "shell.execute_reply": "2023-04-17T20:42:02.816614Z"
    },
    "papermill": {
     "duration": 1.242567,
     "end_time": "2023-04-17T20:42:02.820166",
     "exception": false,
     "start_time": "2023-04-17T20:42:01.577599",
     "status": "completed"
    },
    "tags": []
   },
   "outputs": [],
   "source": [
    "path = Path('/kaggle/input/bitmap-files/lantern.npy')\n",
    "lanterns = np.load(path)"
   ]
  },
  {
   "cell_type": "code",
   "execution_count": 4,
   "id": "8907d0c9",
   "metadata": {
    "execution": {
     "iopub.execute_input": "2023-04-17T20:42:02.844854Z",
     "iopub.status.busy": "2023-04-17T20:42:02.844542Z",
     "iopub.status.idle": "2023-04-17T20:42:02.853565Z",
     "shell.execute_reply": "2023-04-17T20:42:02.852674Z"
    },
    "papermill": {
     "duration": 0.023052,
     "end_time": "2023-04-17T20:42:02.855727",
     "exception": false,
     "start_time": "2023-04-17T20:42:02.832675",
     "status": "completed"
    },
    "tags": []
   },
   "outputs": [
    {
     "data": {
      "text/plain": [
       "(149912, 784)"
      ]
     },
     "execution_count": 4,
     "metadata": {},
     "output_type": "execute_result"
    }
   ],
   "source": [
    "lanterns.shape"
   ]
  },
  {
   "cell_type": "code",
   "execution_count": 5,
   "id": "c7d6b512",
   "metadata": {
    "execution": {
     "iopub.execute_input": "2023-04-17T20:42:02.877501Z",
     "iopub.status.busy": "2023-04-17T20:42:02.877235Z",
     "iopub.status.idle": "2023-04-17T20:42:03.088262Z",
     "shell.execute_reply": "2023-04-17T20:42:03.087373Z"
    },
    "papermill": {
     "duration": 0.22425,
     "end_time": "2023-04-17T20:42:03.090372",
     "exception": false,
     "start_time": "2023-04-17T20:42:02.866122",
     "status": "completed"
    },
    "tags": []
   },
   "outputs": [
    {
     "data": {
      "image/png": "[encoded data removed]",
      "text/plain": [
       "<Figure size 432x288 with 1 Axes>"
      ]
     },
     "metadata": {
      "needs_background": "light"
     },
     "output_type": "display_data"
    }
   ],
   "source": [
    "lantern1 = (lanterns[0]).reshape(28,28)\n",
    "plt.imshow(lantern1);"
   ]
  },
  {
   "cell_type": "markdown",
   "id": "7f5cbdb6",
   "metadata": {
    "papermill": {
     "duration": 0.010511,
     "end_time": "2023-04-17T20:42:03.111713",
     "exception": false,
     "start_time": "2023-04-17T20:42:03.101202",
     "status": "completed"
    },
    "tags": []
   },
   "source": [
    "Create the `dataloaders`. We need a slightly special `ImageBlock` because we want grayscale images."
   ]
  },
  {
   "cell_type": "code",
   "execution_count": 6,
   "id": "c7778d84",
   "metadata": {
    "execution": {
     "iopub.execute_input": "2023-04-17T20:42:03.134647Z",
     "iopub.status.busy": "2023-04-17T20:42:03.133771Z",
     "iopub.status.idle": "2023-04-17T20:42:03.151596Z",
     "shell.execute_reply": "2023-04-17T20:42:03.150712Z"
    },
    "papermill": {
     "duration": 0.031429,
     "end_time": "2023-04-17T20:42:03.153515",
     "exception": false,
     "start_time": "2023-04-17T20:42:03.122086",
     "status": "completed"
    },
    "tags": []
   },
   "outputs": [],
   "source": [
    "indices = torch.randperm(len(lanterns))[:750]\n",
    "lantern_items = lanterns[indices]"
   ]
  },
  {
   "cell_type": "code",
   "execution_count": 7,
   "id": "e3bec5f3",
   "metadata": {
    "execution": {
     "iopub.execute_input": "2023-04-17T20:42:03.176255Z",
     "iopub.status.busy": "2023-04-17T20:42:03.175369Z",
     "iopub.status.idle": "2023-04-17T20:42:03.183491Z",
     "shell.execute_reply": "2023-04-17T20:42:03.182717Z"
    },
    "papermill": {
     "duration": 0.021283,
     "end_time": "2023-04-17T20:42:03.185398",
     "exception": false,
     "start_time": "2023-04-17T20:42:03.164115",
     "status": "completed"
    },
    "tags": []
   },
   "outputs": [
    {
     "data": {
      "text/plain": [
       "array([[0, 0, 0, ..., 0, 0, 0],\n",
       "       [0, 0, 0, ..., 0, 0, 0],\n",
       "       [0, 0, 0, ..., 0, 0, 0],\n",
       "       ...,\n",
       "       [0, 0, 0, ..., 0, 0, 0],\n",
       "       [0, 0, 0, ..., 0, 0, 0],\n",
       "       [0, 0, 0, ..., 0, 0, 0]], dtype=uint8)"
      ]
     },
     "execution_count": 7,
     "metadata": {},
     "output_type": "execute_result"
    }
   ],
   "source": [
    "lantern_items"
   ]
  },
  {
   "cell_type": "code",
   "execution_count": 8,
   "id": "23fd2d0b",
   "metadata": {
    "execution": {
     "iopub.execute_input": "2023-04-17T20:42:03.208338Z",
     "iopub.status.busy": "2023-04-17T20:42:03.207592Z",
     "iopub.status.idle": "2023-04-17T20:42:03.374388Z",
     "shell.execute_reply": "2023-04-17T20:42:03.373475Z"
    },
    "papermill": {
     "duration": 0.180381,
     "end_time": "2023-04-17T20:42:03.376634",
     "exception": false,
     "start_time": "2023-04-17T20:42:03.196253",
     "status": "completed"
    },
    "tags": []
   },
   "outputs": [],
   "source": [
    "os.makedirs('/kaggle/working/lanterns')\n",
    "indice = 0\n",
    "for image in lantern_items:\n",
    "    item = image.reshape(28,28)\n",
    "    i = Image.fromarray(item)\n",
    "    i.save(\"/kaggle/working/lanterns/lantern{}.png\".format(indice))\n",
    "    indice += 1"
   ]
  },
  {
   "cell_type": "code",
   "execution_count": 9,
   "id": "22e72940",
   "metadata": {
    "execution": {
     "iopub.execute_input": "2023-04-17T20:42:03.400874Z",
     "iopub.status.busy": "2023-04-17T20:42:03.400543Z",
     "iopub.status.idle": "2023-04-17T20:42:03.413510Z",
     "shell.execute_reply": "2023-04-17T20:42:03.412705Z"
    },
    "papermill": {
     "duration": 0.02649,
     "end_time": "2023-04-17T20:42:03.415490",
     "exception": false,
     "start_time": "2023-04-17T20:42:03.389000",
     "status": "completed"
    },
    "tags": []
   },
   "outputs": [],
   "source": [
    "lantern_files = get_image_files(\"/kaggle/working/lanterns\").sorted()"
   ]
  },
  {
   "cell_type": "code",
   "execution_count": 10,
   "id": "9e2d696d",
   "metadata": {
    "execution": {
     "iopub.execute_input": "2023-04-17T20:42:03.438331Z",
     "iopub.status.busy": "2023-04-17T20:42:03.437459Z",
     "iopub.status.idle": "2023-04-17T20:42:03.618804Z",
     "shell.execute_reply": "2023-04-17T20:42:03.617857Z"
    },
    "papermill": {
     "duration": 0.195021,
     "end_time": "2023-04-17T20:42:03.621152",
     "exception": false,
     "start_time": "2023-04-17T20:42:03.426131",
     "status": "completed"
    },
    "tags": []
   },
   "outputs": [
    {
     "data": {
      "image/png": "[encoded data removed]",
      "text/plain": [
       "<Figure size 432x288 with 1 Axes>"
      ]
     },
     "metadata": {
      "needs_background": "light"
     },
     "output_type": "display_data"
    }
   ],
   "source": [
    "%matplotlib inline\n",
    "import matplotlib.pyplot as plt\n",
    "import matplotlib.image as mpimg\n",
    "img = mpimg.imread(lantern_files[0])\n",
    "imgplot = plt.imshow(img)\n",
    "plt.show()"
   ]
  },
  {
   "cell_type": "markdown",
   "id": "2bddc712",
   "metadata": {
    "papermill": {
     "duration": 0.010482,
     "end_time": "2023-04-17T20:42:03.642713",
     "exception": false,
     "start_time": "2023-04-17T20:42:03.632231",
     "status": "completed"
    },
    "tags": []
   },
   "source": [
    "### Load the monkeys"
   ]
  },
  {
   "cell_type": "code",
   "execution_count": 11,
   "id": "f368b298",
   "metadata": {
    "execution": {
     "iopub.execute_input": "2023-04-17T20:42:03.665640Z",
     "iopub.status.busy": "2023-04-17T20:42:03.665330Z",
     "iopub.status.idle": "2023-04-17T20:42:04.395257Z",
     "shell.execute_reply": "2023-04-17T20:42:04.394287Z"
    },
    "papermill": {
     "duration": 0.744178,
     "end_time": "2023-04-17T20:42:04.397610",
     "exception": false,
     "start_time": "2023-04-17T20:42:03.653432",
     "status": "completed"
    },
    "tags": []
   },
   "outputs": [],
   "source": [
    "path = Path('/kaggle/input/bitmap-files/monkey.npy')\n",
    "monkeys = np.load(path)"
   ]
  },
  {
   "cell_type": "code",
   "execution_count": 12,
   "id": "3369aee1",
   "metadata": {
    "execution": {
     "iopub.execute_input": "2023-04-17T20:42:04.420576Z",
     "iopub.status.busy": "2023-04-17T20:42:04.420278Z",
     "iopub.status.idle": "2023-04-17T20:42:04.425895Z",
     "shell.execute_reply": "2023-04-17T20:42:04.424967Z"
    },
    "papermill": {
     "duration": 0.019242,
     "end_time": "2023-04-17T20:42:04.427863",
     "exception": false,
     "start_time": "2023-04-17T20:42:04.408621",
     "status": "completed"
    },
    "tags": []
   },
   "outputs": [
    {
     "data": {
      "text/plain": [
       "(127633, 784)"
      ]
     },
     "execution_count": 12,
     "metadata": {},
     "output_type": "execute_result"
    }
   ],
   "source": [
    "monkeys.shape"
   ]
  },
  {
   "cell_type": "code",
   "execution_count": 13,
   "id": "148cb821",
   "metadata": {
    "execution": {
     "iopub.execute_input": "2023-04-17T20:42:04.450909Z",
     "iopub.status.busy": "2023-04-17T20:42:04.450139Z",
     "iopub.status.idle": "2023-04-17T20:42:04.629720Z",
     "shell.execute_reply": "2023-04-17T20:42:04.628768Z"
    },
    "papermill": {
     "duration": 0.193129,
     "end_time": "2023-04-17T20:42:04.631743",
     "exception": false,
     "start_time": "2023-04-17T20:42:04.438614",
     "status": "completed"
    },
    "tags": []
   },
   "outputs": [
    {
     "data": {
      "image/png": "[encoded data removed]",
      "text/plain": [
       "<Figure size 432x288 with 1 Axes>"
      ]
     },
     "metadata": {
      "needs_background": "light"
     },
     "output_type": "display_data"
    }
   ],
   "source": [
    "monkey1 = (monkeys[0]).reshape(28,28)\n",
    "plt.imshow(monkey1);"
   ]
  },
  {
   "cell_type": "code",
   "execution_count": 14,
   "id": "e81c1fb7",
   "metadata": {
    "execution": {
     "iopub.execute_input": "2023-04-17T20:42:04.657598Z",
     "iopub.status.busy": "2023-04-17T20:42:04.657281Z",
     "iopub.status.idle": "2023-04-17T20:42:04.666565Z",
     "shell.execute_reply": "2023-04-17T20:42:04.665414Z"
    },
    "papermill": {
     "duration": 0.025019,
     "end_time": "2023-04-17T20:42:04.668977",
     "exception": false,
     "start_time": "2023-04-17T20:42:04.643958",
     "status": "completed"
    },
    "tags": []
   },
   "outputs": [],
   "source": [
    "indices = torch.randperm(len(monkeys))[:750]\n",
    "monkey_items = monkeys[indices]"
   ]
  },
  {
   "cell_type": "code",
   "execution_count": 15,
   "id": "c5775e9c",
   "metadata": {
    "execution": {
     "iopub.execute_input": "2023-04-17T20:42:04.695896Z",
     "iopub.status.busy": "2023-04-17T20:42:04.695533Z",
     "iopub.status.idle": "2023-04-17T20:42:04.866933Z",
     "shell.execute_reply": "2023-04-17T20:42:04.865940Z"
    },
    "papermill": {
     "duration": 0.187511,
     "end_time": "2023-04-17T20:42:04.869259",
     "exception": false,
     "start_time": "2023-04-17T20:42:04.681748",
     "status": "completed"
    },
    "tags": []
   },
   "outputs": [],
   "source": [
    "os.makedirs('/kaggle/working/monkeys')\n",
    "indice = 0\n",
    "for image in monkey_items:\n",
    "    item = image.reshape(28,28)\n",
    "    i = Image.fromarray(item)\n",
    "    i.save(\"/kaggle/working/monkeys/monkey{}.png\".format(indice))\n",
    "    indice += 1"
   ]
  },
  {
   "cell_type": "code",
   "execution_count": 16,
   "id": "7d3f9fe2",
   "metadata": {
    "execution": {
     "iopub.execute_input": "2023-04-17T20:42:04.893122Z",
     "iopub.status.busy": "2023-04-17T20:42:04.892801Z",
     "iopub.status.idle": "2023-04-17T20:42:04.906580Z",
     "shell.execute_reply": "2023-04-17T20:42:04.905762Z"
    },
    "papermill": {
     "duration": 0.027699,
     "end_time": "2023-04-17T20:42:04.908594",
     "exception": false,
     "start_time": "2023-04-17T20:42:04.880895",
     "status": "completed"
    },
    "tags": []
   },
   "outputs": [],
   "source": [
    "monkey_files = get_image_files(\"/kaggle/working/monkeys\").sorted()"
   ]
  },
  {
   "cell_type": "code",
   "execution_count": 17,
   "id": "c3dedbe6",
   "metadata": {
    "execution": {
     "iopub.execute_input": "2023-04-17T20:42:04.932165Z",
     "iopub.status.busy": "2023-04-17T20:42:04.931387Z",
     "iopub.status.idle": "2023-04-17T20:42:05.105804Z",
     "shell.execute_reply": "2023-04-17T20:42:05.104883Z"
    },
    "papermill": {
     "duration": 0.188284,
     "end_time": "2023-04-17T20:42:05.107916",
     "exception": false,
     "start_time": "2023-04-17T20:42:04.919632",
     "status": "completed"
    },
    "tags": []
   },
   "outputs": [
    {
     "data": {
      "image/png": "[encoded data removed]",
      "text/plain": [
       "<Figure size 432x288 with 1 Axes>"
      ]
     },
     "metadata": {
      "needs_background": "light"
     },
     "output_type": "display_data"
    }
   ],
   "source": [
    "%matplotlib inline\n",
    "import matplotlib.pyplot as plt\n",
    "import matplotlib.image as mpimg\n",
    "img = mpimg.imread(monkey_files[0])\n",
    "imgplot = plt.imshow(img)\n",
    "plt.show()"
   ]
  },
  {
   "cell_type": "markdown",
   "id": "ef67b9c2",
   "metadata": {
    "papermill": {
     "duration": 0.010971,
     "end_time": "2023-04-17T20:42:05.130395",
     "exception": false,
     "start_time": "2023-04-17T20:42:05.119424",
     "status": "completed"
    },
    "tags": []
   },
   "source": [
    "### Load the swords"
   ]
  },
  {
   "cell_type": "code",
   "execution_count": 18,
   "id": "7e830e3c",
   "metadata": {
    "execution": {
     "iopub.execute_input": "2023-04-17T20:42:05.153801Z",
     "iopub.status.busy": "2023-04-17T20:42:05.153520Z",
     "iopub.status.idle": "2023-04-17T20:42:05.830211Z",
     "shell.execute_reply": "2023-04-17T20:42:05.829216Z"
    },
    "papermill": {
     "duration": 0.691246,
     "end_time": "2023-04-17T20:42:05.832693",
     "exception": false,
     "start_time": "2023-04-17T20:42:05.141447",
     "status": "completed"
    },
    "tags": []
   },
   "outputs": [],
   "source": [
    "path = Path('/kaggle/input/bitmap-files/sword.npy')\n",
    "swords = np.load(path)"
   ]
  },
  {
   "cell_type": "code",
   "execution_count": 19,
   "id": "68f2f196",
   "metadata": {
    "execution": {
     "iopub.execute_input": "2023-04-17T20:42:05.857120Z",
     "iopub.status.busy": "2023-04-17T20:42:05.856304Z",
     "iopub.status.idle": "2023-04-17T20:42:05.862581Z",
     "shell.execute_reply": "2023-04-17T20:42:05.861594Z"
    },
    "papermill": {
     "duration": 0.020524,
     "end_time": "2023-04-17T20:42:05.864706",
     "exception": false,
     "start_time": "2023-04-17T20:42:05.844182",
     "status": "completed"
    },
    "tags": []
   },
   "outputs": [
    {
     "data": {
      "text/plain": [
       "(123802, 784)"
      ]
     },
     "execution_count": 19,
     "metadata": {},
     "output_type": "execute_result"
    }
   ],
   "source": [
    "swords.shape"
   ]
  },
  {
   "cell_type": "code",
   "execution_count": 20,
   "id": "d4f10c4e",
   "metadata": {
    "execution": {
     "iopub.execute_input": "2023-04-17T20:42:05.888382Z",
     "iopub.status.busy": "2023-04-17T20:42:05.887770Z",
     "iopub.status.idle": "2023-04-17T20:42:06.062040Z",
     "shell.execute_reply": "2023-04-17T20:42:06.061089Z"
    },
    "papermill": {
     "duration": 0.188118,
     "end_time": "2023-04-17T20:42:06.063957",
     "exception": false,
     "start_time": "2023-04-17T20:42:05.875839",
     "status": "completed"
    },
    "tags": []
   },
   "outputs": [
    {
     "data": {
      "image/png": "[encoded data removed]",
      "text/plain": [
       "<Figure size 432x288 with 1 Axes>"
      ]
     },
     "metadata": {
      "needs_background": "light"
     },
     "output_type": "display_data"
    }
   ],
   "source": [
    "sword1 = (swords[0]).reshape(28,28)\n",
    "plt.imshow(sword1);"
   ]
  },
  {
   "cell_type": "code",
   "execution_count": 21,
   "id": "f8b2a93c",
   "metadata": {
    "execution": {
     "iopub.execute_input": "2023-04-17T20:42:06.088084Z",
     "iopub.status.busy": "2023-04-17T20:42:06.087797Z",
     "iopub.status.idle": "2023-04-17T20:42:06.095731Z",
     "shell.execute_reply": "2023-04-17T20:42:06.094948Z"
    },
    "papermill": {
     "duration": 0.02213,
     "end_time": "2023-04-17T20:42:06.097717",
     "exception": false,
     "start_time": "2023-04-17T20:42:06.075587",
     "status": "completed"
    },
    "tags": []
   },
   "outputs": [],
   "source": [
    "indices = torch.randperm(len(swords))[:750]\n",
    "sword_items = swords[indices]"
   ]
  },
  {
   "cell_type": "code",
   "execution_count": 22,
   "id": "5c15c0c7",
   "metadata": {
    "execution": {
     "iopub.execute_input": "2023-04-17T20:42:06.121614Z",
     "iopub.status.busy": "2023-04-17T20:42:06.121359Z",
     "iopub.status.idle": "2023-04-17T20:42:06.271672Z",
     "shell.execute_reply": "2023-04-17T20:42:06.270821Z"
    },
    "papermill": {
     "duration": 0.164598,
     "end_time": "2023-04-17T20:42:06.273794",
     "exception": false,
     "start_time": "2023-04-17T20:42:06.109196",
     "status": "completed"
    },
    "tags": []
   },
   "outputs": [],
   "source": [
    "os.makedirs('/kaggle/working/swords')\n",
    "indice = 0\n",
    "for image in sword_items:\n",
    "    item = image.reshape(28,28)\n",
    "    i = Image.fromarray(item)\n",
    "    i.save(\"/kaggle/working/swords/sword{}.png\".format(indice))\n",
    "    indice += 1"
   ]
  },
  {
   "cell_type": "code",
   "execution_count": 23,
   "id": "68e0a05d",
   "metadata": {
    "execution": {
     "iopub.execute_input": "2023-04-17T20:42:06.297764Z",
     "iopub.status.busy": "2023-04-17T20:42:06.297503Z",
     "iopub.status.idle": "2023-04-17T20:42:06.310638Z",
     "shell.execute_reply": "2023-04-17T20:42:06.309847Z"
    },
    "papermill": {
     "duration": 0.027325,
     "end_time": "2023-04-17T20:42:06.312505",
     "exception": false,
     "start_time": "2023-04-17T20:42:06.285180",
     "status": "completed"
    },
    "tags": []
   },
   "outputs": [],
   "source": [
    "sword_files = get_image_files(\"/kaggle/working/swords\").sorted()"
   ]
  },
  {
   "cell_type": "code",
   "execution_count": 24,
   "id": "6450ef6a",
   "metadata": {
    "execution": {
     "iopub.execute_input": "2023-04-17T20:42:06.337378Z",
     "iopub.status.busy": "2023-04-17T20:42:06.335898Z",
     "iopub.status.idle": "2023-04-17T20:42:06.512005Z",
     "shell.execute_reply": "2023-04-17T20:42:06.511059Z"
    },
    "papermill": {
     "duration": 0.19045,
     "end_time": "2023-04-17T20:42:06.514228",
     "exception": false,
     "start_time": "2023-04-17T20:42:06.323778",
     "status": "completed"
    },
    "tags": []
   },
   "outputs": [
    {
     "data": {
      "image/png": "[encoded data removed]",
      "text/plain": [
       "<Figure size 432x288 with 1 Axes>"
      ]
     },
     "metadata": {
      "needs_background": "light"
     },
     "output_type": "display_data"
    }
   ],
   "source": [
    "%matplotlib inline\n",
    "import matplotlib.pyplot as plt\n",
    "import matplotlib.image as mpimg\n",
    "img = mpimg.imread(sword_files[0])\n",
    "imgplot = plt.imshow(img)\n",
    "plt.show()"
   ]
  },
  {
   "cell_type": "markdown",
   "id": "610114e9",
   "metadata": {
    "papermill": {
     "duration": 0.011519,
     "end_time": "2023-04-17T20:42:06.537290",
     "exception": false,
     "start_time": "2023-04-17T20:42:06.525771",
     "status": "completed"
    },
    "tags": []
   },
   "source": [
    "### Load up the strawberries"
   ]
  },
  {
   "cell_type": "code",
   "execution_count": 25,
   "id": "569a3c8a",
   "metadata": {
    "execution": {
     "iopub.execute_input": "2023-04-17T20:42:06.562243Z",
     "iopub.status.busy": "2023-04-17T20:42:06.561562Z",
     "iopub.status.idle": "2023-04-17T20:42:07.314001Z",
     "shell.execute_reply": "2023-04-17T20:42:07.313044Z"
    },
    "papermill": {
     "duration": 0.767333,
     "end_time": "2023-04-17T20:42:07.316369",
     "exception": false,
     "start_time": "2023-04-17T20:42:06.549036",
     "status": "completed"
    },
    "tags": []
   },
   "outputs": [],
   "source": [
    "path = Path('/kaggle/input/bitmap-files/strawberry.npy')\n",
    "strawberries = np.load(path)"
   ]
  },
  {
   "cell_type": "code",
   "execution_count": 26,
   "id": "3d1257aa",
   "metadata": {
    "execution": {
     "iopub.execute_input": "2023-04-17T20:42:07.341330Z",
     "iopub.status.busy": "2023-04-17T20:42:07.340520Z",
     "iopub.status.idle": "2023-04-17T20:42:07.346732Z",
     "shell.execute_reply": "2023-04-17T20:42:07.345789Z"
    },
    "papermill": {
     "duration": 0.020498,
     "end_time": "2023-04-17T20:42:07.348683",
     "exception": false,
     "start_time": "2023-04-17T20:42:07.328185",
     "status": "completed"
    },
    "tags": []
   },
   "outputs": [
    {
     "data": {
      "text/plain": [
       "(122301, 784)"
      ]
     },
     "execution_count": 26,
     "metadata": {},
     "output_type": "execute_result"
    }
   ],
   "source": [
    "strawberries.shape"
   ]
  },
  {
   "cell_type": "code",
   "execution_count": 27,
   "id": "fcd4746c",
   "metadata": {
    "execution": {
     "iopub.execute_input": "2023-04-17T20:42:07.373204Z",
     "iopub.status.busy": "2023-04-17T20:42:07.372947Z",
     "iopub.status.idle": "2023-04-17T20:42:07.551231Z",
     "shell.execute_reply": "2023-04-17T20:42:07.550289Z"
    },
    "papermill": {
     "duration": 0.193026,
     "end_time": "2023-04-17T20:42:07.553357",
     "exception": false,
     "start_time": "2023-04-17T20:42:07.360331",
     "status": "completed"
    },
    "tags": []
   },
   "outputs": [
    {
     "data": {
      "image/png": "[encoded data removed]",
      "text/plain": [
       "<Figure size 432x288 with 1 Axes>"
      ]
     },
     "metadata": {
      "needs_background": "light"
     },
     "output_type": "display_data"
    }
   ],
   "source": [
    "strawberry1 = (strawberries[0]).reshape(28,28)\n",
    "plt.imshow(strawberry1);"
   ]
  },
  {
   "cell_type": "code",
   "execution_count": 28,
   "id": "9e0fb76c",
   "metadata": {
    "execution": {
     "iopub.execute_input": "2023-04-17T20:42:07.578709Z",
     "iopub.status.busy": "2023-04-17T20:42:07.578424Z",
     "iopub.status.idle": "2023-04-17T20:42:07.587365Z",
     "shell.execute_reply": "2023-04-17T20:42:07.586545Z"
    },
    "papermill": {
     "duration": 0.023928,
     "end_time": "2023-04-17T20:42:07.589379",
     "exception": false,
     "start_time": "2023-04-17T20:42:07.565451",
     "status": "completed"
    },
    "tags": []
   },
   "outputs": [],
   "source": [
    "indices = torch.randperm(len(strawberries))[:750]\n",
    "strawberry_items = strawberries[indices]"
   ]
  },
  {
   "cell_type": "code",
   "execution_count": 29,
   "id": "47ef8f5e",
   "metadata": {
    "execution": {
     "iopub.execute_input": "2023-04-17T20:42:07.617041Z",
     "iopub.status.busy": "2023-04-17T20:42:07.616710Z",
     "iopub.status.idle": "2023-04-17T20:42:07.808272Z",
     "shell.execute_reply": "2023-04-17T20:42:07.807316Z"
    },
    "papermill": {
     "duration": 0.20815,
     "end_time": "2023-04-17T20:42:07.810627",
     "exception": false,
     "start_time": "2023-04-17T20:42:07.602477",
     "status": "completed"
    },
    "tags": []
   },
   "outputs": [],
   "source": [
    "os.makedirs('/kaggle/working/strawberries')\n",
    "indice = 0\n",
    "for image in strawberry_items:\n",
    "    item = image.reshape(28,28)\n",
    "    i = Image.fromarray(item)\n",
    "    i.save(\"/kaggle/working/strawberries/strawberry{}.png\".format(indice))\n",
    "    indice += 1"
   ]
  },
  {
   "cell_type": "code",
   "execution_count": 30,
   "id": "b8eee4b6",
   "metadata": {
    "execution": {
     "iopub.execute_input": "2023-04-17T20:42:07.840099Z",
     "iopub.status.busy": "2023-04-17T20:42:07.839711Z",
     "iopub.status.idle": "2023-04-17T20:42:07.855729Z",
     "shell.execute_reply": "2023-04-17T20:42:07.854829Z"
    },
    "papermill": {
     "duration": 0.034572,
     "end_time": "2023-04-17T20:42:07.858189",
     "exception": false,
     "start_time": "2023-04-17T20:42:07.823617",
     "status": "completed"
    },
    "tags": []
   },
   "outputs": [],
   "source": [
    "strawberry_files = get_image_files(\"/kaggle/working/strawberries\").sorted()"
   ]
  },
  {
   "cell_type": "code",
   "execution_count": 31,
   "id": "3deef7a5",
   "metadata": {
    "execution": {
     "iopub.execute_input": "2023-04-17T20:42:07.885558Z",
     "iopub.status.busy": "2023-04-17T20:42:07.885280Z",
     "iopub.status.idle": "2023-04-17T20:42:08.075753Z",
     "shell.execute_reply": "2023-04-17T20:42:08.074849Z"
    },
    "papermill": {
     "duration": 0.206598,
     "end_time": "2023-04-17T20:42:08.078256",
     "exception": false,
     "start_time": "2023-04-17T20:42:07.871658",
     "status": "completed"
    },
    "tags": []
   },
   "outputs": [
    {
     "data": {
      "image/png": "[encoded data removed]",
      "text/plain": [
       "<Figure size 432x288 with 1 Axes>"
      ]
     },
     "metadata": {
      "needs_background": "light"
     },
     "output_type": "display_data"
    }
   ],
   "source": [
    "%matplotlib inline\n",
    "import matplotlib.pyplot as plt\n",
    "import matplotlib.image as mpimg\n",
    "img = mpimg.imread(strawberry_files[0])\n",
    "imgplot = plt.imshow(img)\n",
    "plt.show()"
   ]
  },
  {
   "cell_type": "markdown",
   "id": "be09902c",
   "metadata": {
    "papermill": {
     "duration": 0.012328,
     "end_time": "2023-04-17T20:42:08.102944",
     "exception": false,
     "start_time": "2023-04-17T20:42:08.090616",
     "status": "completed"
    },
    "tags": []
   },
   "source": [
    "### Load up the cameras"
   ]
  },
  {
   "cell_type": "code",
   "execution_count": 32,
   "id": "15acb60b",
   "metadata": {
    "execution": {
     "iopub.execute_input": "2023-04-17T20:42:08.128535Z",
     "iopub.status.busy": "2023-04-17T20:42:08.128240Z",
     "iopub.status.idle": "2023-04-17T20:42:08.914348Z",
     "shell.execute_reply": "2023-04-17T20:42:08.913384Z"
    },
    "papermill": {
     "duration": 0.801507,
     "end_time": "2023-04-17T20:42:08.916617",
     "exception": false,
     "start_time": "2023-04-17T20:42:08.115110",
     "status": "completed"
    },
    "tags": []
   },
   "outputs": [],
   "source": [
    "path = Path('/kaggle/input/bitmap-files/camera.npy')\n",
    "cameras = np.load(path)"
   ]
  },
  {
   "cell_type": "code",
   "execution_count": 33,
   "id": "15747332",
   "metadata": {
    "execution": {
     "iopub.execute_input": "2023-04-17T20:42:08.944995Z",
     "iopub.status.busy": "2023-04-17T20:42:08.944151Z",
     "iopub.status.idle": "2023-04-17T20:42:08.950580Z",
     "shell.execute_reply": "2023-04-17T20:42:08.949583Z"
    },
    "papermill": {
     "duration": 0.023582,
     "end_time": "2023-04-17T20:42:08.952736",
     "exception": false,
     "start_time": "2023-04-17T20:42:08.929154",
     "status": "completed"
    },
    "tags": []
   },
   "outputs": [
    {
     "data": {
      "text/plain": [
       "(128772, 784)"
      ]
     },
     "execution_count": 33,
     "metadata": {},
     "output_type": "execute_result"
    }
   ],
   "source": [
    "cameras.shape"
   ]
  },
  {
   "cell_type": "code",
   "execution_count": 34,
   "id": "8e2ac6bb",
   "metadata": {
    "execution": {
     "iopub.execute_input": "2023-04-17T20:42:08.978018Z",
     "iopub.status.busy": "2023-04-17T20:42:08.977608Z",
     "iopub.status.idle": "2023-04-17T20:42:09.323700Z",
     "shell.execute_reply": "2023-04-17T20:42:09.322691Z"
    },
    "papermill": {
     "duration": 0.361167,
     "end_time": "2023-04-17T20:42:09.325678",
     "exception": false,
     "start_time": "2023-04-17T20:42:08.964511",
     "status": "completed"
    },
    "tags": []
   },
   "outputs": [
    {
     "data": {
      "image/png": "[encoded data removed]",
      "text/plain": [
       "<Figure size 432x288 with 1 Axes>"
      ]
     },
     "metadata": {
      "needs_background": "light"
     },
     "output_type": "display_data"
    }
   ],
   "source": [
    "camera1 = (cameras[0]).reshape(28,28)\n",
    "plt.imshow(camera1);"
   ]
  },
  {
   "cell_type": "code",
   "execution_count": 35,
   "id": "4fe29b56",
   "metadata": {
    "execution": {
     "iopub.execute_input": "2023-04-17T20:42:09.352371Z",
     "iopub.status.busy": "2023-04-17T20:42:09.351518Z",
     "iopub.status.idle": "2023-04-17T20:42:09.360084Z",
     "shell.execute_reply": "2023-04-17T20:42:09.359372Z"
    },
    "papermill": {
     "duration": 0.023531,
     "end_time": "2023-04-17T20:42:09.362110",
     "exception": false,
     "start_time": "2023-04-17T20:42:09.338579",
     "status": "completed"
    },
    "tags": []
   },
   "outputs": [],
   "source": [
    "indices = torch.randperm(len(cameras))[:750]\n",
    "camera_items = cameras[indices]"
   ]
  },
  {
   "cell_type": "code",
   "execution_count": 36,
   "id": "df7fb8ed",
   "metadata": {
    "execution": {
     "iopub.execute_input": "2023-04-17T20:42:09.387113Z",
     "iopub.status.busy": "2023-04-17T20:42:09.386857Z",
     "iopub.status.idle": "2023-04-17T20:42:09.550879Z",
     "shell.execute_reply": "2023-04-17T20:42:09.550041Z"
    },
    "papermill": {
     "duration": 0.178851,
     "end_time": "2023-04-17T20:42:09.552893",
     "exception": false,
     "start_time": "2023-04-17T20:42:09.374042",
     "status": "completed"
    },
    "tags": []
   },
   "outputs": [],
   "source": [
    "os.makedirs('/kaggle/working/cameras')\n",
    "indice = 0\n",
    "for image in camera_items:\n",
    "    item = image.reshape(28,28)\n",
    "    i = Image.fromarray(item)\n",
    "    i.save(\"/kaggle/working/cameras/camera{}.png\".format(indice))\n",
    "    indice += 1"
   ]
  },
  {
   "cell_type": "code",
   "execution_count": 37,
   "id": "97bb2fdf",
   "metadata": {
    "execution": {
     "iopub.execute_input": "2023-04-17T20:42:09.578293Z",
     "iopub.status.busy": "2023-04-17T20:42:09.578032Z",
     "iopub.status.idle": "2023-04-17T20:42:09.591003Z",
     "shell.execute_reply": "2023-04-17T20:42:09.590205Z"
    },
    "papermill": {
     "duration": 0.027882,
     "end_time": "2023-04-17T20:42:09.593018",
     "exception": false,
     "start_time": "2023-04-17T20:42:09.565136",
     "status": "completed"
    },
    "tags": []
   },
   "outputs": [],
   "source": [
    "camera_files = get_image_files(\"/kaggle/working/cameras\").sorted()"
   ]
  },
  {
   "cell_type": "code",
   "execution_count": 38,
   "id": "9bf72157",
   "metadata": {
    "execution": {
     "iopub.execute_input": "2023-04-17T20:42:09.618704Z",
     "iopub.status.busy": "2023-04-17T20:42:09.617982Z",
     "iopub.status.idle": "2023-04-17T20:42:09.790705Z",
     "shell.execute_reply": "2023-04-17T20:42:09.789851Z"
    },
    "papermill": {
     "duration": 0.187703,
     "end_time": "2023-04-17T20:42:09.792887",
     "exception": false,
     "start_time": "2023-04-17T20:42:09.605184",
     "status": "completed"
    },
    "tags": []
   },
   "outputs": [
    {
     "data": {
      "image/png": "[encoded data removed]",
      "text/plain": [
       "<Figure size 432x288 with 1 Axes>"
      ]
     },
     "metadata": {
      "needs_background": "light"
     },
     "output_type": "display_data"
    }
   ],
   "source": [
    "%matplotlib inline\n",
    "import matplotlib.pyplot as plt\n",
    "import matplotlib.image as mpimg\n",
    "img = mpimg.imread(camera_files[0])\n",
    "imgplot = plt.imshow(img)\n",
    "plt.show()"
   ]
  },
  {
   "cell_type": "markdown",
   "id": "c0a174cd",
   "metadata": {
    "papermill": {
     "duration": 0.012096,
     "end_time": "2023-04-17T20:42:09.817546",
     "exception": false,
     "start_time": "2023-04-17T20:42:09.805450",
     "status": "completed"
    },
    "tags": []
   },
   "source": [
    "### Create the array"
   ]
  },
  {
   "cell_type": "code",
   "execution_count": 39,
   "id": "35e9bc98",
   "metadata": {
    "execution": {
     "iopub.execute_input": "2023-04-17T20:42:09.843203Z",
     "iopub.status.busy": "2023-04-17T20:42:09.842914Z",
     "iopub.status.idle": "2023-04-17T20:42:09.847605Z",
     "shell.execute_reply": "2023-04-17T20:42:09.846671Z"
    },
    "papermill": {
     "duration": 0.019856,
     "end_time": "2023-04-17T20:42:09.849576",
     "exception": false,
     "start_time": "2023-04-17T20:42:09.829720",
     "status": "completed"
    },
    "tags": []
   },
   "outputs": [],
   "source": [
    "image_files = lantern_files + monkey_files + sword_files + camera_files + strawberry_files"
   ]
  },
  {
   "cell_type": "code",
   "execution_count": 40,
   "id": "a808f1f1",
   "metadata": {
    "execution": {
     "iopub.execute_input": "2023-04-17T20:42:09.875746Z",
     "iopub.status.busy": "2023-04-17T20:42:09.875004Z",
     "iopub.status.idle": "2023-04-17T20:42:09.881634Z",
     "shell.execute_reply": "2023-04-17T20:42:09.880687Z"
    },
    "papermill": {
     "duration": 0.021662,
     "end_time": "2023-04-17T20:42:09.883572",
     "exception": false,
     "start_time": "2023-04-17T20:42:09.861910",
     "status": "completed"
    },
    "tags": []
   },
   "outputs": [
    {
     "data": {
      "text/plain": [
       "(#3750) [Path('/kaggle/working/lanterns/lantern0.png'),Path('/kaggle/working/lanterns/lantern1.png'),Path('/kaggle/working/lanterns/lantern10.png'),Path('/kaggle/working/lanterns/lantern100.png'),Path('/kaggle/working/lanterns/lantern101.png'),Path('/kaggle/working/lanterns/lantern102.png'),Path('/kaggle/working/lanterns/lantern103.png'),Path('/kaggle/working/lanterns/lantern104.png'),Path('/kaggle/working/lanterns/lantern105.png'),Path('/kaggle/working/lanterns/lantern106.png')...]"
      ]
     },
     "execution_count": 40,
     "metadata": {},
     "output_type": "execute_result"
    }
   ],
   "source": [
    "image_files"
   ]
  },
  {
   "cell_type": "code",
   "execution_count": 41,
   "id": "5e7b00e1",
   "metadata": {
    "execution": {
     "iopub.execute_input": "2023-04-17T20:42:09.909666Z",
     "iopub.status.busy": "2023-04-17T20:42:09.908938Z",
     "iopub.status.idle": "2023-04-17T20:42:09.915311Z",
     "shell.execute_reply": "2023-04-17T20:42:09.914498Z"
    },
    "papermill": {
     "duration": 0.021348,
     "end_time": "2023-04-17T20:42:09.917173",
     "exception": false,
     "start_time": "2023-04-17T20:42:09.895825",
     "status": "completed"
    },
    "tags": []
   },
   "outputs": [],
   "source": [
    "def get_label(filename):\n",
    "    if filename[0:3] == 'lan':\n",
    "        return 'lantern'\n",
    "    elif filename[0:3] == 'mon':\n",
    "        return 'monkey'\n",
    "    elif filename[0:3] == 'swo':\n",
    "        return 'sword'\n",
    "    elif filename[0:3] == 'cam':\n",
    "        return 'camera'\n",
    "    elif filename[0:3] == 'str':\n",
    "        return 'strawberry'"
   ]
  },
  {
   "cell_type": "code",
   "execution_count": 42,
   "id": "2695107d",
   "metadata": {
    "execution": {
     "iopub.execute_input": "2023-04-17T20:42:09.947823Z",
     "iopub.status.busy": "2023-04-17T20:42:09.946165Z",
     "iopub.status.idle": "2023-04-17T20:42:09.963196Z",
     "shell.execute_reply": "2023-04-17T20:42:09.961700Z"
    },
    "papermill": {
     "duration": 0.03688,
     "end_time": "2023-04-17T20:42:09.966432",
     "exception": false,
     "start_time": "2023-04-17T20:42:09.929552",
     "status": "completed"
    },
    "tags": []
   },
   "outputs": [],
   "source": [
    "labels = []\n",
    "for path in image_files:\n",
    "    labels.append(get_label(path.name))"
   ]
  },
  {
   "cell_type": "code",
   "execution_count": 43,
   "id": "111d6d71",
   "metadata": {
    "execution": {
     "iopub.execute_input": "2023-04-17T20:42:10.018163Z",
     "iopub.status.busy": "2023-04-17T20:42:10.017698Z",
     "iopub.status.idle": "2023-04-17T20:42:10.027269Z",
     "shell.execute_reply": "2023-04-17T20:42:10.025745Z"
    },
    "papermill": {
     "duration": 0.042442,
     "end_time": "2023-04-17T20:42:10.034393",
     "exception": false,
     "start_time": "2023-04-17T20:42:09.991951",
     "status": "completed"
    },
    "tags": []
   },
   "outputs": [
    {
     "data": {
      "text/plain": [
       "3750"
      ]
     },
     "execution_count": 43,
     "metadata": {},
     "output_type": "execute_result"
    }
   ],
   "source": [
    "len(labels)"
   ]
  },
  {
   "cell_type": "code",
   "execution_count": 44,
   "id": "224d033b",
   "metadata": {
    "execution": {
     "iopub.execute_input": "2023-04-17T20:42:10.078947Z",
     "iopub.status.busy": "2023-04-17T20:42:10.078602Z",
     "iopub.status.idle": "2023-04-17T20:42:10.083805Z",
     "shell.execute_reply": "2023-04-17T20:42:10.082679Z"
    },
    "papermill": {
     "duration": 0.02707,
     "end_time": "2023-04-17T20:42:10.087221",
     "exception": false,
     "start_time": "2023-04-17T20:42:10.060151",
     "status": "completed"
    },
    "tags": []
   },
   "outputs": [],
   "source": [
    "dataset_path = Path('kaggle/working')"
   ]
  },
  {
   "cell_type": "markdown",
   "id": "50eacbf3",
   "metadata": {
    "papermill": {
     "duration": 0.022106,
     "end_time": "2023-04-17T20:42:10.129901",
     "exception": false,
     "start_time": "2023-04-17T20:42:10.107795",
     "status": "completed"
    },
    "tags": []
   },
   "source": [
    "Let's inspect a batch of data."
   ]
  },
  {
   "cell_type": "code",
   "execution_count": 45,
   "id": "6eec19f2",
   "metadata": {
    "execution": {
     "iopub.execute_input": "2023-04-17T20:42:10.160578Z",
     "iopub.status.busy": "2023-04-17T20:42:10.160307Z",
     "iopub.status.idle": "2023-04-17T20:42:13.514408Z",
     "shell.execute_reply": "2023-04-17T20:42:13.513407Z"
    },
    "papermill": {
     "duration": 3.369447,
     "end_time": "2023-04-17T20:42:13.516723",
     "exception": false,
     "start_time": "2023-04-17T20:42:10.147276",
     "status": "completed"
    },
    "tags": []
   },
   "outputs": [],
   "source": [
    "dataloaders = ImageDataLoaders.from_lists(\n",
    "    # What images to use:\n",
    "    path=dataset_path, fnames=image_files, labels=labels,\n",
    "\n",
    "    # train-test split parameters:\n",
    "    # - amount to hold out for validation:\n",
    "    valid_pct=0.2,\n",
    "    # - set the seed used for the train-test split (not the training)\n",
    "    seed=15, \n",
    "\n",
    "    # Set batch size\n",
    "    bs=16,\n",
    ")"
   ]
  },
  {
   "cell_type": "code",
   "execution_count": 46,
   "id": "15698660",
   "metadata": {
    "execution": {
     "iopub.execute_input": "2023-04-17T20:42:13.546947Z",
     "iopub.status.busy": "2023-04-17T20:42:13.546614Z",
     "iopub.status.idle": "2023-04-17T20:42:13.936721Z",
     "shell.execute_reply": "2023-04-17T20:42:13.935840Z"
    },
    "papermill": {
     "duration": 0.407221,
     "end_time": "2023-04-17T20:42:13.938723",
     "exception": false,
     "start_time": "2023-04-17T20:42:13.531502",
     "status": "completed"
    },
    "tags": []
   },
   "outputs": [
    {
     "data": {
      "image/png": "[encoded data removed]",
      "text/plain": [
       "<Figure size 648x648 with 9 Axes>"
      ]
     },
     "metadata": {
      "needs_background": "light"
     },
     "output_type": "display_data"
    }
   ],
   "source": [
    "dataloaders.train.show_batch()"
   ]
  },
  {
   "cell_type": "code",
   "execution_count": 47,
   "id": "4c2d5246",
   "metadata": {
    "execution": {
     "iopub.execute_input": "2023-04-17T20:42:13.967086Z",
     "iopub.status.busy": "2023-04-17T20:42:13.965483Z",
     "iopub.status.idle": "2023-04-17T20:42:13.971751Z",
     "shell.execute_reply": "2023-04-17T20:42:13.970725Z"
    },
    "papermill": {
     "duration": 0.023039,
     "end_time": "2023-04-17T20:42:13.974828",
     "exception": false,
     "start_time": "2023-04-17T20:42:13.951789",
     "status": "completed"
    },
    "tags": []
   },
   "outputs": [
    {
     "name": "stdout",
     "output_type": "stream",
     "text": [
      "Available categories: ['camera', 'lantern', 'monkey', 'strawberry', 'sword']\n"
     ]
    }
   ],
   "source": [
    "print(f\"Available categories: {dataloaders.train.vocab}\")"
   ]
  },
  {
   "cell_type": "code",
   "execution_count": 48,
   "id": "ed50ff7e",
   "metadata": {
    "execution": {
     "iopub.execute_input": "2023-04-17T20:42:14.002131Z",
     "iopub.status.busy": "2023-04-17T20:42:14.001688Z",
     "iopub.status.idle": "2023-04-17T20:42:14.006692Z",
     "shell.execute_reply": "2023-04-17T20:42:14.005777Z"
    },
    "papermill": {
     "duration": 0.021454,
     "end_time": "2023-04-17T20:42:14.008898",
     "exception": false,
     "start_time": "2023-04-17T20:42:13.987444",
     "status": "completed"
    },
    "tags": []
   },
   "outputs": [
    {
     "name": "stdout",
     "output_type": "stream",
     "text": [
      "3000 training images\n",
      "750 validation images\n"
     ]
    }
   ],
   "source": [
    "print(dataloaders.train.n, \"training images\")\n",
    "print(dataloaders.valid.n, \"validation images\")"
   ]
  },
  {
   "cell_type": "code",
   "execution_count": 49,
   "id": "e741f61f",
   "metadata": {
    "execution": {
     "iopub.execute_input": "2023-04-17T20:42:14.036245Z",
     "iopub.status.busy": "2023-04-17T20:42:14.035288Z",
     "iopub.status.idle": "2023-04-17T20:45:52.565024Z",
     "shell.execute_reply": "2023-04-17T20:45:52.563876Z"
    },
    "papermill": {
     "duration": 218.546231,
     "end_time": "2023-04-17T20:45:52.567825",
     "exception": false,
     "start_time": "2023-04-17T20:42:14.021594",
     "status": "completed"
    },
    "tags": []
   },
   "outputs": [
    {
     "name": "stderr",
     "output_type": "stream",
     "text": [
      "Downloading: \"https://download.pytorch.org/models/resnet34-b627a593.pth\" to /root/.cache/torch/hub/checkpoints/resnet34-b627a593.pth\n"
     ]
    },
    {
     "data": {
      "application/vnd.jupyter.widget-view+json": {
       "model_id": "ae8b8ee3385648d4b7cd8402eb2bc01d",
       "version_major": 2,
       "version_minor": 0
      },
      "text/plain": [
       "  0%|          | 0.00/83.3M [00:00<?, ?B/s]"
      ]
     },
     "metadata": {},
     "output_type": "display_data"
    },
    {
     "data": {
      "text/html": [
       "\n",
       "<style>\n",
       "    /* Turns off some styling */\n",
       "    progress {\n",
       "        /* gets rid of default border in Firefox and Opera. */\n",
       "        border: none;\n",
       "        /* Needs to be in here for Safari polyfill so background images work as expected. */\n",
       "        background-size: auto;\n",
       "    }\n",
       "    progress:not([value]), progress:not([value])::-webkit-progress-bar {\n",
       "        background: repeating-linear-gradient(45deg, #7e7e7e, #7e7e7e 10px, #5c5c5c 10px, #5c5c5c 20px);\n",
       "    }\n",
       "    .progress-bar-interrupted, .progress-bar-interrupted::-webkit-progress-bar {\n",
       "        background: #F44336;\n",
       "    }\n",
       "</style>\n"
      ],
      "text/plain": [
       "<IPython.core.display.HTML object>"
      ]
     },
     "metadata": {},
     "output_type": "display_data"
    },
    {
     "data": {
      "text/html": [
       "<table border=\"1\" class=\"dataframe\">\n",
       "  <thead>\n",
       "    <tr style=\"text-align: left;\">\n",
       "      <th>epoch</th>\n",
       "      <th>train_loss</th>\n",
       "      <th>valid_loss</th>\n",
       "      <th>accuracy</th>\n",
       "      <th>error_rate</th>\n",
       "      <th>time</th>\n",
       "    </tr>\n",
       "  </thead>\n",
       "  <tbody>\n",
       "    <tr>\n",
       "      <td>0</td>\n",
       "      <td>1.343860</td>\n",
       "      <td>1.028144</td>\n",
       "      <td>0.713333</td>\n",
       "      <td>0.286667</td>\n",
       "      <td>00:14</td>\n",
       "    </tr>\n",
       "  </tbody>\n",
       "</table>"
      ],
      "text/plain": [
       "<IPython.core.display.HTML object>"
      ]
     },
     "metadata": {},
     "output_type": "display_data"
    },
    {
     "data": {
      "text/html": [
       "\n",
       "<style>\n",
       "    /* Turns off some styling */\n",
       "    progress {\n",
       "        /* gets rid of default border in Firefox and Opera. */\n",
       "        border: none;\n",
       "        /* Needs to be in here for Safari polyfill so background images work as expected. */\n",
       "        background-size: auto;\n",
       "    }\n",
       "    progress:not([value]), progress:not([value])::-webkit-progress-bar {\n",
       "        background: repeating-linear-gradient(45deg, #7e7e7e, #7e7e7e 10px, #5c5c5c 10px, #5c5c5c 20px);\n",
       "    }\n",
       "    .progress-bar-interrupted, .progress-bar-interrupted::-webkit-progress-bar {\n",
       "        background: #F44336;\n",
       "    }\n",
       "</style>\n"
      ],
      "text/plain": [
       "<IPython.core.display.HTML object>"
      ]
     },
     "metadata": {},
     "output_type": "display_data"
    },
    {
     "data": {
      "text/html": [
       "<table border=\"1\" class=\"dataframe\">\n",
       "  <thead>\n",
       "    <tr style=\"text-align: left;\">\n",
       "      <th>epoch</th>\n",
       "      <th>train_loss</th>\n",
       "      <th>valid_loss</th>\n",
       "      <th>accuracy</th>\n",
       "      <th>error_rate</th>\n",
       "      <th>time</th>\n",
       "    </tr>\n",
       "  </thead>\n",
       "  <tbody>\n",
       "    <tr>\n",
       "      <td>0</td>\n",
       "      <td>0.902166</td>\n",
       "      <td>0.718316</td>\n",
       "      <td>0.777333</td>\n",
       "      <td>0.222667</td>\n",
       "      <td>00:10</td>\n",
       "    </tr>\n",
       "    <tr>\n",
       "      <td>1</td>\n",
       "      <td>0.707187</td>\n",
       "      <td>0.607276</td>\n",
       "      <td>0.818667</td>\n",
       "      <td>0.181333</td>\n",
       "      <td>00:10</td>\n",
       "    </tr>\n",
       "    <tr>\n",
       "      <td>2</td>\n",
       "      <td>0.589890</td>\n",
       "      <td>0.487471</td>\n",
       "      <td>0.840000</td>\n",
       "      <td>0.160000</td>\n",
       "      <td>00:09</td>\n",
       "    </tr>\n",
       "    <tr>\n",
       "      <td>3</td>\n",
       "      <td>0.492392</td>\n",
       "      <td>0.478357</td>\n",
       "      <td>0.853333</td>\n",
       "      <td>0.146667</td>\n",
       "      <td>00:10</td>\n",
       "    </tr>\n",
       "    <tr>\n",
       "      <td>4</td>\n",
       "      <td>0.438410</td>\n",
       "      <td>0.418692</td>\n",
       "      <td>0.889333</td>\n",
       "      <td>0.110667</td>\n",
       "      <td>00:10</td>\n",
       "    </tr>\n",
       "    <tr>\n",
       "      <td>5</td>\n",
       "      <td>0.355588</td>\n",
       "      <td>0.466974</td>\n",
       "      <td>0.865333</td>\n",
       "      <td>0.134667</td>\n",
       "      <td>00:09</td>\n",
       "    </tr>\n",
       "    <tr>\n",
       "      <td>6</td>\n",
       "      <td>0.379655</td>\n",
       "      <td>0.295381</td>\n",
       "      <td>0.914667</td>\n",
       "      <td>0.085333</td>\n",
       "      <td>00:09</td>\n",
       "    </tr>\n",
       "    <tr>\n",
       "      <td>7</td>\n",
       "      <td>0.260839</td>\n",
       "      <td>0.292246</td>\n",
       "      <td>0.894667</td>\n",
       "      <td>0.105333</td>\n",
       "      <td>00:10</td>\n",
       "    </tr>\n",
       "    <tr>\n",
       "      <td>8</td>\n",
       "      <td>0.241763</td>\n",
       "      <td>0.302743</td>\n",
       "      <td>0.913333</td>\n",
       "      <td>0.086667</td>\n",
       "      <td>00:09</td>\n",
       "    </tr>\n",
       "    <tr>\n",
       "      <td>9</td>\n",
       "      <td>0.191395</td>\n",
       "      <td>0.316013</td>\n",
       "      <td>0.909333</td>\n",
       "      <td>0.090667</td>\n",
       "      <td>00:09</td>\n",
       "    </tr>\n",
       "    <tr>\n",
       "      <td>10</td>\n",
       "      <td>0.176204</td>\n",
       "      <td>0.295897</td>\n",
       "      <td>0.913333</td>\n",
       "      <td>0.086667</td>\n",
       "      <td>00:10</td>\n",
       "    </tr>\n",
       "    <tr>\n",
       "      <td>11</td>\n",
       "      <td>0.127476</td>\n",
       "      <td>0.314324</td>\n",
       "      <td>0.912000</td>\n",
       "      <td>0.088000</td>\n",
       "      <td>00:09</td>\n",
       "    </tr>\n",
       "    <tr>\n",
       "      <td>12</td>\n",
       "      <td>0.096636</td>\n",
       "      <td>0.320444</td>\n",
       "      <td>0.928000</td>\n",
       "      <td>0.072000</td>\n",
       "      <td>00:09</td>\n",
       "    </tr>\n",
       "    <tr>\n",
       "      <td>13</td>\n",
       "      <td>0.065120</td>\n",
       "      <td>0.298247</td>\n",
       "      <td>0.930667</td>\n",
       "      <td>0.069333</td>\n",
       "      <td>00:10</td>\n",
       "    </tr>\n",
       "    <tr>\n",
       "      <td>14</td>\n",
       "      <td>0.041741</td>\n",
       "      <td>0.312633</td>\n",
       "      <td>0.932000</td>\n",
       "      <td>0.068000</td>\n",
       "      <td>00:09</td>\n",
       "    </tr>\n",
       "    <tr>\n",
       "      <td>15</td>\n",
       "      <td>0.034396</td>\n",
       "      <td>0.288263</td>\n",
       "      <td>0.928000</td>\n",
       "      <td>0.072000</td>\n",
       "      <td>00:10</td>\n",
       "    </tr>\n",
       "    <tr>\n",
       "      <td>16</td>\n",
       "      <td>0.040144</td>\n",
       "      <td>0.315562</td>\n",
       "      <td>0.925333</td>\n",
       "      <td>0.074667</td>\n",
       "      <td>00:10</td>\n",
       "    </tr>\n",
       "    <tr>\n",
       "      <td>17</td>\n",
       "      <td>0.031944</td>\n",
       "      <td>0.306685</td>\n",
       "      <td>0.929333</td>\n",
       "      <td>0.070667</td>\n",
       "      <td>00:09</td>\n",
       "    </tr>\n",
       "    <tr>\n",
       "      <td>18</td>\n",
       "      <td>0.023738</td>\n",
       "      <td>0.311617</td>\n",
       "      <td>0.922667</td>\n",
       "      <td>0.077333</td>\n",
       "      <td>00:09</td>\n",
       "    </tr>\n",
       "    <tr>\n",
       "      <td>19</td>\n",
       "      <td>0.022234</td>\n",
       "      <td>0.322042</td>\n",
       "      <td>0.924000</td>\n",
       "      <td>0.076000</td>\n",
       "      <td>00:09</td>\n",
       "    </tr>\n",
       "  </tbody>\n",
       "</table>"
      ],
      "text/plain": [
       "<IPython.core.display.HTML object>"
      ]
     },
     "metadata": {},
     "output_type": "display_data"
    },
    {
     "data": {
      "image/png": "[encoded data removed]",
      "text/plain": [
       "<Figure size 432x288 with 1 Axes>"
      ]
     },
     "metadata": {
      "needs_background": "light"
     },
     "output_type": "display_data"
    }
   ],
   "source": [
    "# fastai-specific\n",
    "learn = vision_learner(\n",
    "    dls=dataloaders,\n",
    "    arch=resnet34,\n",
    "    metrics=[accuracy, error_rate]\n",
    ")\n",
    "learn.fine_tune(epochs=20)\n",
    "learn.recorder.plot_loss()"
   ]
  },
  {
   "cell_type": "code",
   "execution_count": 50,
   "id": "405735c1",
   "metadata": {
    "execution": {
     "iopub.execute_input": "2023-04-17T20:45:52.612434Z",
     "iopub.status.busy": "2023-04-17T20:45:52.611920Z",
     "iopub.status.idle": "2023-04-17T20:45:55.806078Z",
     "shell.execute_reply": "2023-04-17T20:45:55.804507Z"
    },
    "papermill": {
     "duration": 3.218977,
     "end_time": "2023-04-17T20:45:55.809334",
     "exception": false,
     "start_time": "2023-04-17T20:45:52.590357",
     "status": "completed"
    },
    "tags": []
   },
   "outputs": [
    {
     "data": {
      "text/html": [
       "\n",
       "<style>\n",
       "    /* Turns off some styling */\n",
       "    progress {\n",
       "        /* gets rid of default border in Firefox and Opera. */\n",
       "        border: none;\n",
       "        /* Needs to be in here for Safari polyfill so background images work as expected. */\n",
       "        background-size: auto;\n",
       "    }\n",
       "    progress:not([value]), progress:not([value])::-webkit-progress-bar {\n",
       "        background: repeating-linear-gradient(45deg, #7e7e7e, #7e7e7e 10px, #5c5c5c 10px, #5c5c5c 20px);\n",
       "    }\n",
       "    .progress-bar-interrupted, .progress-bar-interrupted::-webkit-progress-bar {\n",
       "        background: #F44336;\n",
       "    }\n",
       "</style>\n"
      ],
      "text/plain": [
       "<IPython.core.display.HTML object>"
      ]
     },
     "metadata": {},
     "output_type": "display_data"
    },
    {
     "data": {
      "text/html": [],
      "text/plain": [
       "<IPython.core.display.HTML object>"
      ]
     },
     "metadata": {},
     "output_type": "display_data"
    },
    {
     "data": {
      "text/html": [
       "\n",
       "<style>\n",
       "    /* Turns off some styling */\n",
       "    progress {\n",
       "        /* gets rid of default border in Firefox and Opera. */\n",
       "        border: none;\n",
       "        /* Needs to be in here for Safari polyfill so background images work as expected. */\n",
       "        background-size: auto;\n",
       "    }\n",
       "    progress:not([value]), progress:not([value])::-webkit-progress-bar {\n",
       "        background: repeating-linear-gradient(45deg, #7e7e7e, #7e7e7e 10px, #5c5c5c 10px, #5c5c5c 20px);\n",
       "    }\n",
       "    .progress-bar-interrupted, .progress-bar-interrupted::-webkit-progress-bar {\n",
       "        background: #F44336;\n",
       "    }\n",
       "</style>\n"
      ],
      "text/plain": [
       "<IPython.core.display.HTML object>"
      ]
     },
     "metadata": {},
     "output_type": "display_data"
    },
    {
     "data": {
      "text/html": [],
      "text/plain": [
       "<IPython.core.display.HTML object>"
      ]
     },
     "metadata": {},
     "output_type": "display_data"
    },
    {
     "data": {
      "image/png": "[encoded data removed]",
      "text/plain": [
       "<Figure size 432x288 with 1 Axes>"
      ]
     },
     "metadata": {
      "needs_background": "light"
     },
     "output_type": "display_data"
    }
   ],
   "source": [
    "interp = ClassificationInterpretation.from_learner(learn)\n",
    "interp.plot_confusion_matrix()"
   ]
  }
 ],
 "metadata": {
  "kernelspec": {
   "display_name": "Python 3",
   "language": "python",
   "name": "python3"
  },
  "language_info": {
   "codemirror_mode": {
    "name": "ipython",
    "version": 3
   },
   "file_extension": ".py",
   "mimetype": "text/x-python",
   "name": "python",
   "nbconvert_exporter": "python",
   "pygments_lexer": "ipython3",
   "version": "3.7.12"
  },
  "papermill": {
   "default_parameters": {},
   "duration": 248.474818,
   "end_time": "2023-04-17T20:45:58.117972",
   "environment_variables": {},
   "exception": null,
   "input_path": "__notebook__.ipynb",
   "output_path": "__notebook__.ipynb",
   "parameters": {},
   "start_time": "2023-04-17T20:41:49.643154",
   "version": "2.3.4"
  },
  "widgets": {
   "application/vnd.jupyter.widget-state+json": {
    "state": {
     "0294608a2ead422e8158f30e8ca20c09": {
      "model_module": "@jupyter-widgets/controls",
      "model_module_version": "1.5.0",
      "model_name": "DescriptionStyleModel",
      "state": {
       "_model_module": "@jupyter-widgets/controls",
       "_model_module_version": "1.5.0",
       "_model_name": "DescriptionStyleModel",
       "_view_count": null,
       "_view_module": "@jupyter-widgets/base",
       "_view_module_version": "1.2.0",
       "_view_name": "StyleView",
       "description_width": ""
      }
     },
     "0cbd967050304b8e87c2b1cb96e12a27": {
      "model_module": "@jupyter-widgets/base",
      "model_module_version": "1.2.0",
      "model_name": "LayoutModel",
      "state": {
       "_model_module": "@jupyter-widgets/base",
       "_model_module_version": "1.2.0",
       "_model_name": "LayoutModel",
       "_view_count": null,
       "_view_module": "@jupyter-widgets/base",
       "_view_module_version": "1.2.0",
       "_view_name": "LayoutView",
       "align_content": null,
       "align_items": null,
       "align_self": null,
       "border": null,
       "bottom": null,
       "display": null,
       "flex": null,
       "flex_flow": null,
       "grid_area": null,
       "grid_auto_columns": null,
       "grid_auto_flow": null,
       "grid_auto_rows": null,
       "grid_column": null,
       "grid_gap": null,
       "grid_row": null,
       "grid_template_areas": null,
       "grid_template_columns": null,
       "grid_template_rows": null,
       "height": null,
       "justify_content": null,
       "justify_items": null,
       "left": null,
       "margin": null,
       "max_height": null,
       "max_width": null,
       "min_height": null,
       "min_width": null,
       "object_fit": null,
       "object_position": null,
       "order": null,
       "overflow": null,
       "overflow_x": null,
       "overflow_y": null,
       "padding": null,
       "right": null,
       "top": null,
       "visibility": null,
       "width": null
      }
     },
     "1ebedb789d954d5abf06f1c5194689d4": {
      "model_module": "@jupyter-widgets/base",
      "model_module_version": "1.2.0",
      "model_name": "LayoutModel",
      "state": {
       "_model_module": "@jupyter-widgets/base",
       "_model_module_version": "1.2.0",
       "_model_name": "LayoutModel",
       "_view_count": null,
       "_view_module": "@jupyter-widgets/base",
       "_view_module_version": "1.2.0",
       "_view_name": "LayoutView",
       "align_content": null,
       "align_items": null,
       "align_self": null,
       "border": null,
       "bottom": null,
       "display": null,
       "flex": null,
       "flex_flow": null,
       "grid_area": null,
       "grid_auto_columns": null,
       "grid_auto_flow": null,
       "grid_auto_rows": null,
       "grid_column": null,
       "grid_gap": null,
       "grid_row": null,
       "grid_template_areas": null,
       "grid_template_columns": null,
       "grid_template_rows": null,
       "height": null,
       "justify_content": null,
       "justify_items": null,
       "left": null,
       "margin": null,
       "max_height": null,
       "max_width": null,
       "min_height": null,
       "min_width": null,
       "object_fit": null,
       "object_position": null,
       "order": null,
       "overflow": null,
       "overflow_x": null,
       "overflow_y": null,
       "padding": null,
       "right": null,
       "top": null,
       "visibility": null,
       "width": null
      }
     },
     "5a9da6bd2b484c598f288ba3c4e3cc31": {
      "model_module": "@jupyter-widgets/controls",
      "model_module_version": "1.5.0",
      "model_name": "DescriptionStyleModel",
      "state": {
       "_model_module": "@jupyter-widgets/controls",
       "_model_module_version": "1.5.0",
       "_model_name": "DescriptionStyleModel",
       "_view_count": null,
       "_view_module": "@jupyter-widgets/base",
       "_view_module_version": "1.2.0",
       "_view_name": "StyleView",
       "description_width": ""
      }
     },
     "6dbfd6aed46743ea88e38d9e1fae0799": {
      "model_module": "@jupyter-widgets/controls",
      "model_module_version": "1.5.0",
      "model_name": "ProgressStyleModel",
      "state": {
       "_model_module": "@jupyter-widgets/controls",
       "_model_module_version": "1.5.0",
       "_model_name": "ProgressStyleModel",
       "_view_count": null,
       "_view_module": "@jupyter-widgets/base",
       "_view_module_version": "1.2.0",
       "_view_name": "StyleView",
       "bar_color": null,
       "description_width": ""
      }
     },
     "8dc9141d77bf4588bd762745700964e5": {
      "model_module": "@jupyter-widgets/controls",
      "model_module_version": "1.5.0",
      "model_name": "FloatProgressModel",
      "state": {
       "_dom_classes": [],
       "_model_module": "@jupyter-widgets/controls",
       "_model_module_version": "1.5.0",
       "_model_name": "FloatProgressModel",
       "_view_count": null,
       "_view_module": "@jupyter-widgets/controls",
       "_view_module_version": "1.5.0",
       "_view_name": "ProgressView",
       "bar_style": "success",
       "description": "",
       "description_tooltip": null,
       "layout": "IPY_MODEL_8f30cd2428a8412fa81a76a3d5515d88",
       "max": 87319819.0,
       "min": 0.0,
       "orientation": "horizontal",
       "style": "IPY_MODEL_6dbfd6aed46743ea88e38d9e1fae0799",
       "value": 87319819.0
      }
     },
     "8f30cd2428a8412fa81a76a3d5515d88": {
      "model_module": "@jupyter-widgets/base",
      "model_module_version": "1.2.0",
      "model_name": "LayoutModel",
      "state": {
       "_model_module": "@jupyter-widgets/base",
       "_model_module_version": "1.2.0",
       "_model_name": "LayoutModel",
       "_view_count": null,
       "_view_module": "@jupyter-widgets/base",
       "_view_module_version": "1.2.0",
       "_view_name": "LayoutView",
       "align_content": null,
       "align_items": null,
       "align_self": null,
       "border": null,
       "bottom": null,
       "display": null,
       "flex": null,
       "flex_flow": null,
       "grid_area": null,
       "grid_auto_columns": null,
       "grid_auto_flow": null,
       "grid_auto_rows": null,
       "grid_column": null,
       "grid_gap": null,
       "grid_row": null,
       "grid_template_areas": null,
       "grid_template_columns": null,
       "grid_template_rows": null,
       "height": null,
       "justify_content": null,
       "justify_items": null,
       "left": null,
       "margin": null,
       "max_height": null,
       "max_width": null,
       "min_height": null,
       "min_width": null,
       "object_fit": null,
       "object_position": null,
       "order": null,
       "overflow": null,
       "overflow_x": null,
       "overflow_y": null,
       "padding": null,
       "right": null,
       "top": null,
       "visibility": null,
       "width": null
      }
     },
     "95ee8e305ad947caa4c862a86d7146b3": {
      "model_module": "@jupyter-widgets/controls",
      "model_module_version": "1.5.0",
      "model_name": "HTMLModel",
      "state": {
       "_dom_classes": [],
       "_model_module": "@jupyter-widgets/controls",
       "_model_module_version": "1.5.0",
       "_model_name": "HTMLModel",
       "_view_count": null,
       "_view_module": "@jupyter-widgets/controls",
       "_view_module_version": "1.5.0",
       "_view_name": "HTMLView",
       "description": "",
       "description_tooltip": null,
       "layout": "IPY_MODEL_1ebedb789d954d5abf06f1c5194689d4",
       "placeholder": "​",
       "style": "IPY_MODEL_5a9da6bd2b484c598f288ba3c4e3cc31",
       "value": "100%"
      }
     },
     "ae8b8ee3385648d4b7cd8402eb2bc01d": {
      "model_module": "@jupyter-widgets/controls",
      "model_module_version": "1.5.0",
      "model_name": "HBoxModel",
      "state": {
       "_dom_classes": [],
       "_model_module": "@jupyter-widgets/controls",
       "_model_module_version": "1.5.0",
       "_model_name": "HBoxModel",
       "_view_count": null,
       "_view_module": "@jupyter-widgets/controls",
       "_view_module_version": "1.5.0",
       "_view_name": "HBoxView",
       "box_style": "",
       "children": [
        "IPY_MODEL_95ee8e305ad947caa4c862a86d7146b3",
        "IPY_MODEL_8dc9141d77bf4588bd762745700964e5",
        "IPY_MODEL_eca35db075fd4caca08d772f241cc289"
       ],
       "layout": "IPY_MODEL_b9e9024e827d47e69ef46f7444bc09f3"
      }
     },
     "b9e9024e827d47e69ef46f7444bc09f3": {
      "model_module": "@jupyter-widgets/base",
      "model_module_version": "1.2.0",
      "model_name": "LayoutModel",
      "state": {
       "_model_module": "@jupyter-widgets/base",
       "_model_module_version": "1.2.0",
       "_model_name": "LayoutModel",
       "_view_count": null,
       "_view_module": "@jupyter-widgets/base",
       "_view_module_version": "1.2.0",
       "_view_name": "LayoutView",
       "align_content": null,
       "align_items": null,
       "align_self": null,
       "border": null,
       "bottom": null,
       "display": null,
       "flex": null,
       "flex_flow": null,
       "grid_area": null,
       "grid_auto_columns": null,
       "grid_auto_flow": null,
       "grid_auto_rows": null,
       "grid_column": null,
       "grid_gap": null,
       "grid_row": null,
       "grid_template_areas": null,
       "grid_template_columns": null,
       "grid_template_rows": null,
       "height": null,
       "justify_content": null,
       "justify_items": null,
       "left": null,
       "margin": null,
       "max_height": null,
       "max_width": null,
       "min_height": null,
       "min_width": null,
       "object_fit": null,
       "object_position": null,
       "order": null,
       "overflow": null,
       "overflow_x": null,
       "overflow_y": null,
       "padding": null,
       "right": null,
       "top": null,
       "visibility": null,
       "width": null
      }
     },
     "eca35db075fd4caca08d772f241cc289": {
      "model_module": "@jupyter-widgets/controls",
      "model_module_version": "1.5.0",
      "model_name": "HTMLModel",
      "state": {
       "_dom_classes": [],
       "_model_module": "@jupyter-widgets/controls",
       "_model_module_version": "1.5.0",
       "_model_name": "HTMLModel",
       "_view_count": null,
       "_view_module": "@jupyter-widgets/controls",
       "_view_module_version": "1.5.0",
       "_view_name": "HTMLView",
       "description": "",
       "description_tooltip": null,
       "layout": "IPY_MODEL_0cbd967050304b8e87c2b1cb96e12a27",
       "placeholder": "​",
       "style": "IPY_MODEL_0294608a2ead422e8158f30e8ca20c09",
       "value": " 83.3M/83.3M [00:01&lt;00:00, 73.8MB/s]"
      }
     }
    },
    "version_major": 2,
    "version_minor": 0
   }
  }
 },
 "nbformat": 4,
 "nbformat_minor": 5
}
